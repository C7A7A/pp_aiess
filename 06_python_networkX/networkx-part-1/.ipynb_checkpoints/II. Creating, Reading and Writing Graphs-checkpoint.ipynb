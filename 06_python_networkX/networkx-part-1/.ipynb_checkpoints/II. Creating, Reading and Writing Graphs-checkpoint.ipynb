{
 "cells": [
  {
   "cell_type": "code",
   "execution_count": null,
   "metadata": {
    "ExecuteTime": {
     "end_time": "2020-04-22T09:16:01.050316Z",
     "start_time": "2020-04-22T09:16:00.832952Z"
    }
   },
   "outputs": [],
   "source": [
    "import networkx as nx"
   ]
  },
  {
   "cell_type": "markdown",
   "metadata": {},
   "source": [
    "# NetworkX Data Capabilities"
   ]
  },
  {
   "cell_type": "markdown",
   "metadata": {},
   "source": [
    "NetworkX has many built in functions to read data from a variety of formats. Because formats can be pretty esoteric this is also the source of many bugs. Please if you find them report them. Here is a brief list of the file formats NetworkX can read and write, and their corresponding function names\n",
    "\n",
    "| Format | Read Function | Write Function |\n",
    "| - | -| -|\n",
    "| Adjacency List| `nx.read_adjlist` | `nx.write_adjlist`|\n",
    "| Edge List |`nx.read_edgelist` | `nx.write_edgelist`|\n",
    "| Graph Exchange XML Format (GEXF)| `nx.read_gexf` |`nx.write_gexf`|\n",
    "| Graph Modeling Language (GML)| `nx.read_gml` |`nx.write_gml`|\n",
    "| GraphML | `nx.read_graphml` |`nx.write_graphml`|\n",
    "| Leda | `nx.read_leda` | `nx.write_leda`|\n",
    "| Multiline Adjacency List| `nx.read_multiline_adjlist` | `nx.write_multiline_adjlist`|\n",
    "| pajek|`nx.read_pajek` | `nx.write_pajek`|\n",
    "| sparse6|`nx.read_sparse6` | `nx.write_sparse6`|"
   ]
  },
  {
   "cell_type": "markdown",
   "metadata": {},
   "source": [
    "## Exercise"
   ]
  },
  {
   "cell_type": "markdown",
   "metadata": {},
   "source": [
    "1. Create a simple graph with few nodes and edges. Save it to the `./data/` folder as GML.\n",
    "2. Read the same graph and save it to the `./data/` folder using another format."
   ]
  },
  {
   "cell_type": "markdown",
   "metadata": {},
   "source": [
    "# Creating Graphs from Other Python Data Structures"
   ]
  },
  {
   "cell_type": "markdown",
   "metadata": {},
   "source": [
    "## Matrices and Arrays"
   ]
  },
  {
   "cell_type": "markdown",
   "metadata": {},
   "source": [
    "It is often useful to create graphs from other types of python data structures. In particular, graphs are often represented by matrices. If your data has a matrix represenatation, NetworkX can easily create a graph using `from_numpy_matrix`"
   ]
  },
  {
   "cell_type": "code",
   "execution_count": null,
   "metadata": {
    "ExecuteTime": {
     "end_time": "2020-04-22T09:17:47.906018Z",
     "start_time": "2020-04-22T09:17:47.903100Z"
    }
   },
   "outputs": [],
   "source": [
    "import numpy as np"
   ]
  },
  {
   "cell_type": "code",
   "execution_count": null,
   "metadata": {
    "ExecuteTime": {
     "end_time": "2020-04-22T09:17:59.519282Z",
     "start_time": "2020-04-22T09:17:59.514354Z"
    }
   },
   "outputs": [],
   "source": [
    "n = 25\n",
    "A = np.random.binomial(1,1.1/n,size=(n,n)) # Random 1/s with probability 1/25\n",
    "\n",
    "print(A)"
   ]
  },
  {
   "cell_type": "code",
   "execution_count": null,
   "metadata": {
    "ExecuteTime": {
     "end_time": "2020-04-22T09:18:05.597663Z",
     "start_time": "2020-04-22T09:18:05.594936Z"
    }
   },
   "outputs": [],
   "source": [
    "G = nx.from_numpy_array(A)"
   ]
  },
  {
   "cell_type": "code",
   "execution_count": null,
   "metadata": {
    "ExecuteTime": {
     "end_time": "2020-04-22T09:18:06.203655Z",
     "start_time": "2020-04-22T09:18:06.192144Z"
    }
   },
   "outputs": [],
   "source": [
    "G.order()"
   ]
  },
  {
   "cell_type": "code",
   "execution_count": null,
   "metadata": {
    "ExecuteTime": {
     "end_time": "2020-04-22T09:18:06.972701Z",
     "start_time": "2020-04-22T09:18:06.969511Z"
    }
   },
   "outputs": [],
   "source": [
    "G.size()"
   ]
  },
  {
   "cell_type": "code",
   "execution_count": null,
   "metadata": {
    "ExecuteTime": {
     "end_time": "2020-04-22T09:18:08.101039Z",
     "start_time": "2020-04-22T09:18:08.097408Z"
    }
   },
   "outputs": [],
   "source": [
    "G.degree()"
   ]
  },
  {
   "cell_type": "markdown",
   "metadata": {},
   "source": [
    "### Quick Quiz..."
   ]
  },
  {
   "cell_type": "markdown",
   "metadata": {},
   "source": [
    "What kind of graph is the one above?"
   ]
  },
  {
   "cell_type": "markdown",
   "metadata": {},
   "source": [
    "NetworkX can handle other data structures such as a list of edges (`from_edgelist`) and `scipy` sparse matrices (`scipy_sparse_matrix`). You can use the `create_using` keyword to make a `DiGraph`s or `MultiGraph`s."
   ]
  },
  {
   "cell_type": "code",
   "execution_count": null,
   "metadata": {
    "ExecuteTime": {
     "end_time": "2020-04-22T09:18:23.639952Z",
     "start_time": "2020-04-22T09:18:23.636574Z"
    }
   },
   "outputs": [],
   "source": [
    "edges = []\n",
    "\n",
    "for u in range(n):\n",
    "    for v in range(n):\n",
    "        if u % 3 == 0 and u > v:\n",
    "            edges.append((u, v))\n",
    "        elif u % 3 == 1 and v < u:\n",
    "            edges.append((u, v))"
   ]
  },
  {
   "cell_type": "code",
   "execution_count": null,
   "metadata": {
    "ExecuteTime": {
     "end_time": "2020-04-22T09:18:29.606335Z",
     "start_time": "2020-04-22T09:18:29.603672Z"
    }
   },
   "outputs": [],
   "source": [
    "D = nx.from_edgelist(edges, create_using=nx.DiGraph())"
   ]
  },
  {
   "cell_type": "code",
   "execution_count": null,
   "metadata": {},
   "outputs": [],
   "source": [
    "D.edges"
   ]
  },
  {
   "cell_type": "markdown",
   "metadata": {},
   "source": [
    "You can also create matrices out of already created graphs"
   ]
  },
  {
   "cell_type": "code",
   "execution_count": null,
   "metadata": {
    "ExecuteTime": {
     "end_time": "2020-04-22T09:18:38.172633Z",
     "start_time": "2020-04-22T09:18:38.169689Z"
    }
   },
   "outputs": [],
   "source": [
    "G = nx.Graph()\n",
    "\n",
    "for u in range(5):\n",
    "    G.add_edge(u, u, index=u)  # Self loops!"
   ]
  },
  {
   "cell_type": "code",
   "execution_count": null,
   "metadata": {
    "ExecuteTime": {
     "end_time": "2020-04-22T09:18:40.430033Z",
     "start_time": "2020-04-22T09:18:40.426327Z"
    }
   },
   "outputs": [],
   "source": [
    "nx.to_numpy_array(G)"
   ]
  },
  {
   "cell_type": "markdown",
   "metadata": {},
   "source": [
    "You can output weighted matrices too"
   ]
  },
  {
   "cell_type": "code",
   "execution_count": null,
   "metadata": {
    "ExecuteTime": {
     "end_time": "2020-04-22T09:18:42.851622Z",
     "start_time": "2020-04-22T09:18:42.844260Z"
    }
   },
   "outputs": [],
   "source": [
    "nx.to_numpy_array(G,weight='index')"
   ]
  },
  {
   "cell_type": "markdown",
   "metadata": {},
   "source": [
    "## Other Graphs"
   ]
  },
  {
   "cell_type": "markdown",
   "metadata": {},
   "source": [
    "Another obvious way to create graphs is to use other graphs. This can be especially useful when coverting between `Graph`s and `DiGraphs` or making copies of graphs for modification."
   ]
  },
  {
   "cell_type": "code",
   "execution_count": null,
   "metadata": {
    "ExecuteTime": {
     "end_time": "2020-04-22T09:18:48.858461Z",
     "start_time": "2020-04-22T09:18:48.855354Z"
    }
   },
   "outputs": [],
   "source": [
    "D = nx.DiGraph()\n",
    "\n",
    "nx.add_star(D, range(5))\n",
    "nx.add_cycle(D, range(5,10))\n",
    "\n",
    "D.add_edge(4,5)"
   ]
  },
  {
   "cell_type": "code",
   "execution_count": null,
   "metadata": {},
   "outputs": [],
   "source": [
    "D.edges"
   ]
  },
  {
   "cell_type": "code",
   "execution_count": null,
   "metadata": {
    "ExecuteTime": {
     "end_time": "2020-04-22T09:18:49.141623Z",
     "start_time": "2020-04-22T09:18:49.138827Z"
    }
   },
   "outputs": [],
   "source": [
    "G = nx.Graph(D)"
   ]
  },
  {
   "cell_type": "code",
   "execution_count": null,
   "metadata": {
    "ExecuteTime": {
     "end_time": "2020-04-22T09:18:49.864834Z",
     "start_time": "2020-04-22T09:18:49.861347Z"
    }
   },
   "outputs": [],
   "source": [
    "G.edges()"
   ]
  },
  {
   "cell_type": "code",
   "execution_count": null,
   "metadata": {
    "ExecuteTime": {
     "end_time": "2020-04-22T09:18:51.433646Z",
     "start_time": "2020-04-22T09:18:51.430884Z"
    }
   },
   "outputs": [],
   "source": [
    "G = nx.Graph()\n",
    "nx.add_star(G, range(5))\n",
    "\n",
    "D = nx.DiGraph(G)"
   ]
  },
  {
   "cell_type": "code",
   "execution_count": null,
   "metadata": {
    "ExecuteTime": {
     "end_time": "2020-04-22T09:18:51.806773Z",
     "start_time": "2020-04-22T09:18:51.803080Z"
    }
   },
   "outputs": [],
   "source": [
    "D.edges()"
   ]
  },
  {
   "cell_type": "markdown",
   "metadata": {},
   "source": [
    "Notice when we create a directed graph from a graph we get edges in both directions."
   ]
  },
  {
   "cell_type": "markdown",
   "metadata": {},
   "source": [
    "## Graph Operations"
   ]
  },
  {
   "cell_type": "markdown",
   "metadata": {},
   "source": [
    "Finally, NetworkX includes a number of graph operations to make combining graphs easier. First some exercises so we have some graphs to mess with.\n",
    "\n",
    "1. Create a complete graph called `C` of 5 nodes\n",
    "2. Create a path graph and called `P` of 10 nodes\n",
    "3. Create a star graph called `S` with of 7 nodes with 0 at it's center"
   ]
  },
  {
   "cell_type": "code",
   "execution_count": null,
   "metadata": {},
   "outputs": [],
   "source": []
  },
  {
   "cell_type": "code",
   "execution_count": null,
   "metadata": {},
   "outputs": [],
   "source": []
  },
  {
   "cell_type": "code",
   "execution_count": null,
   "metadata": {},
   "outputs": [],
   "source": []
  },
  {
   "cell_type": "markdown",
   "metadata": {},
   "source": [
    "Try out these functions, what do they produce?\n",
    " - `nx.compose(C,P)`\n",
    " - `nx.cartesian_product(S,P)`\n",
    " - `nx.complement(S)`"
   ]
  },
  {
   "cell_type": "markdown",
   "metadata": {},
   "source": [
    "### Exercises"
   ]
  },
  {
   "cell_type": "markdown",
   "metadata": {},
   "source": [
    "To get ready for the next section let's write a function that implements the [Kronecker Graph of order k](http://arxiv.org/pdf/0812.4905v2.pdf). This is simply the `tensor_product` of a graph applied to itself k times.\n",
    "That is, if we have a graph $G$, with adjacency matrix $A$ and kronecker product(tensor product) $\\otimes$, the _Kronecker Graph_ of order $k$ is a graph with Adjacency matrix\n",
    "\n",
    "$$(A)^k = \\underbrace{A \\otimes A \\otimes \\cdots \\otimes A}_{ k \\text{ terms}}$$\n",
    "\n",
    "\n",
    "Let's also assume (as they do in the paper) that the kronecker graph always has self loops on all the nodes.\n",
    "\n",
    "I'll give you the function stub and you can fill in the details"
   ]
  },
  {
   "cell_type": "code",
   "execution_count": null,
   "metadata": {},
   "outputs": [],
   "source": [
    "def kronecker_graph(G,k):\n",
    "    \n",
    "    K = nx.Graph(G) # For the kronecker graph we are going to return\n",
    "    B = nx.Graph(G) # For the base graph \n",
    "    \n",
    "    #Add self loops to both K and B\n",
    "    for n in K: \n",
    "        ...\n",
    "        \n",
    "    for n in B:\n",
    "        ...\n",
    "        \n",
    "    # Add the number of kronecker products here\n",
    "    # Create K using the appropriate networkx product function\n",
    "    for _ in range(k-1):\n",
    "        ...\n",
    "    \n",
    "    return K"
   ]
  },
  {
   "cell_type": "markdown",
   "metadata": {},
   "source": [
    "Make a kronecker graph of order $k=2$ out of the Path graph `P` of size 2.\n",
    "\n",
    "- how many nodes are in `kronecker_graph(P, 2)`?\n",
    "- how many nodes are in `kronecker_graph(P, 3)`?"
   ]
  },
  {
   "cell_type": "code",
   "execution_count": null,
   "metadata": {},
   "outputs": [],
   "source": [
    "P = ...\n",
    "\n",
    "KG = kronecker_graph(P, 2)\n",
    "KG.order(), KG.size()"
   ]
  },
  {
   "cell_type": "code",
   "execution_count": null,
   "metadata": {},
   "outputs": [],
   "source": [
    "P = ...\n",
    "\n",
    "KG = kronecker_graph(P, 3)\n",
    "KG.order(), KG.size()"
   ]
  },
  {
   "cell_type": "markdown",
   "metadata": {},
   "source": [
    "Create the adjacency matrix for the Path graph `P` of size 2, add self-loops manually, and build the adjacency matrix of the Kronecker Graph of order 2 from `P` manually using the `numpy.kron()` function. Verify if the resulting matrix is the same as the matrix produced by the `kronecker_graph()` function."
   ]
  },
  {
   "cell_type": "code",
   "execution_count": null,
   "metadata": {},
   "outputs": [],
   "source": [
    "import numpy as np\n",
    "\n",
    "AP = np.array([[0, 1], [1, 0]])\n",
    "\n",
    "n, n = AP.shape\n",
    "\n",
    "for i in range(n):\n",
    "    # add self loops\n",
    "\n",
    "# build the kronecker product of AP\n",
    "\n",
    "# build a graph from the kronecker product of AP\n",
    "\n",
    "# print the number of nodes and edges"
   ]
  }
 ],
 "metadata": {
  "kernelspec": {
   "display_name": "Python 3 (ipykernel)",
   "language": "python",
   "name": "python3"
  },
  "language_info": {
   "codemirror_mode": {
    "name": "ipython",
    "version": 3
   },
   "file_extension": ".py",
   "mimetype": "text/x-python",
   "name": "python",
   "nbconvert_exporter": "python",
   "pygments_lexer": "ipython3",
   "version": "3.11.6"
  },
  "toc": {
   "base_numbering": 1,
   "nav_menu": {},
   "number_sections": true,
   "sideBar": true,
   "skip_h1_title": false,
   "title_cell": "Table of Contents",
   "title_sidebar": "Contents",
   "toc_cell": false,
   "toc_position": {},
   "toc_section_display": true,
   "toc_window_display": false
  },
  "varInspector": {
   "cols": {
    "lenName": 16,
    "lenType": 16,
    "lenVar": 40
   },
   "kernels_config": {
    "python": {
     "delete_cmd_postfix": "",
     "delete_cmd_prefix": "del ",
     "library": "var_list.py",
     "varRefreshCmd": "print(var_dic_list())"
    },
    "r": {
     "delete_cmd_postfix": ") ",
     "delete_cmd_prefix": "rm(",
     "library": "var_list.r",
     "varRefreshCmd": "cat(var_dic_list()) "
    }
   },
   "types_to_exclude": [
    "module",
    "function",
    "builtin_function_or_method",
    "instance",
    "_Feature"
   ],
   "window_display": false
  }
 },
 "nbformat": 4,
 "nbformat_minor": 4
}
