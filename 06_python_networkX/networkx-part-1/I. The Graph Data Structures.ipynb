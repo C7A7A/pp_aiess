{
 "cells": [
  {
   "cell_type": "markdown",
   "metadata": {},
   "source": [
    "# The NetworkX Module"
   ]
  },
  {
   "cell_type": "markdown",
   "metadata": {},
   "source": [
    "NetworkX is a python module. To start exploring NetworkX we simply need to start a python session (Like the IPython session you are in now!), and type"
   ]
  },
  {
   "cell_type": "code",
   "execution_count": 1,
   "metadata": {
    "ExecuteTime": {
     "end_time": "2020-04-22T09:07:55.092359Z",
     "start_time": "2020-04-22T09:07:54.744414Z"
    }
   },
   "outputs": [],
   "source": [
    "import networkx"
   ]
  },
  {
   "cell_type": "markdown",
   "metadata": {},
   "source": [
    "All of NetworkX's data structures and functions can then be accessed using the syntax `networkx.[Object]`, where `[Object]` is the function or data structure you need. Of course you would replace `[Object]` with the function you wanted. For example to make a graph, we'd write:"
   ]
  },
  {
   "cell_type": "code",
   "execution_count": 2,
   "metadata": {
    "ExecuteTime": {
     "end_time": "2020-04-22T09:07:55.965515Z",
     "start_time": "2020-04-22T09:07:55.962610Z"
    }
   },
   "outputs": [],
   "source": [
    "G = networkx.Graph()"
   ]
  },
  {
   "cell_type": "markdown",
   "metadata": {},
   "source": [
    "Usually to save ourselves some keystrokes, we'll import NetworkX using a shorter variable name"
   ]
  },
  {
   "cell_type": "code",
   "execution_count": 3,
   "metadata": {
    "ExecuteTime": {
     "end_time": "2020-04-22T09:07:56.970582Z",
     "start_time": "2020-04-22T09:07:56.968044Z"
    }
   },
   "outputs": [],
   "source": [
    "import networkx as nx"
   ]
  },
  {
   "cell_type": "markdown",
   "metadata": {},
   "source": [
    "# Basic Graph Data Structures"
   ]
  },
  {
   "cell_type": "markdown",
   "metadata": {},
   "source": [
    "One of the main strengths of NetworkX is its flexible graph data structures. There are four data structures\n",
    " - `Graph`: Undirected Graphs\n",
    " - `DiGraph`: Directed Graphs\n",
    " - `MultiGraph`: Undirected multigraphs, ie graphs which allow for multiple edges between nodes\n",
    " - `MultiDiGraph`: Directed Multigraphs\n",
    " \n",
    "Each of these has the same basic structure, attributes and features, with a few minor differences."
   ]
  },
  {
   "cell_type": "markdown",
   "metadata": {},
   "source": [
    "# Creating Graphs"
   ]
  },
  {
   "cell_type": "markdown",
   "metadata": {},
   "source": [
    "Creating Graphs is as simple as calling the appropriate constructor."
   ]
  },
  {
   "cell_type": "code",
   "execution_count": 4,
   "metadata": {
    "ExecuteTime": {
     "end_time": "2020-04-22T09:07:59.989166Z",
     "start_time": "2020-04-22T09:07:59.986436Z"
    }
   },
   "outputs": [],
   "source": [
    "G = nx.Graph()\n",
    "D = nx.DiGraph()\n",
    "M = nx.MultiGraph()\n",
    "MD = nx.MultiDiGraph()"
   ]
  },
  {
   "cell_type": "markdown",
   "metadata": {},
   "source": [
    "You can also add attributes to a graph during creation, either by providing a dictionary, or simply using keyword arguments"
   ]
  },
  {
   "cell_type": "code",
   "execution_count": 5,
   "metadata": {
    "ExecuteTime": {
     "end_time": "2020-04-22T09:08:01.266709Z",
     "start_time": "2020-04-22T09:08:01.263757Z"
    }
   },
   "outputs": [],
   "source": [
    "G = nx.Graph(DateCreated='2015-01-10',name=\"Terry\")"
   ]
  },
  {
   "cell_type": "code",
   "execution_count": 6,
   "metadata": {
    "ExecuteTime": {
     "end_time": "2020-04-22T09:08:03.349395Z",
     "start_time": "2020-04-22T09:08:03.342082Z"
    }
   },
   "outputs": [
    {
     "data": {
      "text/plain": [
       "{'DateCreated': '2015-01-10', 'name': 'Terry'}"
      ]
     },
     "execution_count": 6,
     "metadata": {},
     "output_type": "execute_result"
    }
   ],
   "source": [
    "G.graph"
   ]
  },
  {
   "cell_type": "markdown",
   "metadata": {},
   "source": [
    "The graph attribute is just a dictionary and can be treated as one, so you can add and delete more information from it."
   ]
  },
  {
   "cell_type": "code",
   "execution_count": 7,
   "metadata": {
    "ExecuteTime": {
     "end_time": "2020-04-22T09:08:14.427683Z",
     "start_time": "2020-04-22T09:08:14.425347Z"
    }
   },
   "outputs": [],
   "source": [
    "G.graph['Current'] = False\n",
    "del G.graph['name']"
   ]
  },
  {
   "cell_type": "code",
   "execution_count": 8,
   "metadata": {
    "ExecuteTime": {
     "end_time": "2020-04-22T09:08:14.984244Z",
     "start_time": "2020-04-22T09:08:14.981241Z"
    }
   },
   "outputs": [
    {
     "data": {
      "text/plain": [
       "{'DateCreated': '2015-01-10', 'Current': False}"
      ]
     },
     "execution_count": 8,
     "metadata": {},
     "output_type": "execute_result"
    }
   ],
   "source": [
    "G.graph"
   ]
  },
  {
   "cell_type": "markdown",
   "metadata": {},
   "source": [
    "## Nodes"
   ]
  },
  {
   "cell_type": "markdown",
   "metadata": {},
   "source": [
    "Next we'll cover how to add and remove nodes, as well as check for their existance in a graph and add attributes to both!"
   ]
  },
  {
   "cell_type": "markdown",
   "metadata": {},
   "source": [
    "### Adding Nodes"
   ]
  },
  {
   "cell_type": "markdown",
   "metadata": {},
   "source": [
    "There are two main functions for adding nodes. `add_node`, and `add_nodes_from`. The former takes single values, and the latter takes any iterable (list, set, iterator, generator). Nodes can be of any _immutable_ type. This means numbers (ints and floats complex), strings, bytes, tuples or frozen sets. They cannot be _mutable_, such as lists, dictionaries or sets. Nodes in the same graph do not have to be of the same type"
   ]
  },
  {
   "cell_type": "code",
   "execution_count": 9,
   "metadata": {
    "ExecuteTime": {
     "end_time": "2020-04-22T09:08:24.576537Z",
     "start_time": "2020-04-22T09:08:24.571646Z"
    }
   },
   "outputs": [],
   "source": [
    "# Adding single nodes of various types\n",
    "G.add_node(0)\n",
    "G.add_node('A')\n",
    "G.add_node(('x',1.2))\n",
    "\n",
    "# Adding collections of nodes\n",
    "G.add_nodes_from([2,4,6,8,10])\n",
    "G.add_nodes_from(set([10+(3*i)%5 for i in range(10,50)]))"
   ]
  },
  {
   "cell_type": "markdown",
   "metadata": {},
   "source": [
    "### Listing Nodes"
   ]
  },
  {
   "cell_type": "markdown",
   "metadata": {},
   "source": [
    "Accessing nodes is done using the `nodes` property which is a member of the `Graph` object."
   ]
  },
  {
   "cell_type": "code",
   "execution_count": 10,
   "metadata": {
    "ExecuteTime": {
     "end_time": "2020-04-22T09:09:27.522072Z",
     "start_time": "2020-04-22T09:09:27.518124Z"
    }
   },
   "outputs": [
    {
     "data": {
      "text/plain": [
       "NodeView((0, 'A', ('x', 1.2), 2, 4, 6, 8, 10, 11, 12, 13, 14))"
      ]
     },
     "execution_count": 10,
     "metadata": {},
     "output_type": "execute_result"
    }
   ],
   "source": [
    "G.nodes"
   ]
  },
  {
   "cell_type": "markdown",
   "metadata": {},
   "source": [
    "Sometimes to save memory we might only want to access a list of nodes one at a time, so we can use an _iterator_. These are especially useful in long running loops to save memory."
   ]
  },
  {
   "cell_type": "code",
   "execution_count": 11,
   "metadata": {
    "ExecuteTime": {
     "end_time": "2020-04-22T09:09:57.886603Z",
     "start_time": "2020-04-22T09:09:57.881667Z"
    }
   },
   "outputs": [
    {
     "name": "stdout",
     "output_type": "stream",
     "text": [
      "0 is not a string!\n",
      "A is a string!\n",
      "('x', 1.2) is not a string!\n",
      "2 is not a string!\n",
      "4 is not a string!\n",
      "6 is not a string!\n",
      "8 is not a string!\n",
      "10 is not a string!\n",
      "11 is not a string!\n",
      "12 is not a string!\n",
      "13 is not a string!\n",
      "14 is not a string!\n"
     ]
    }
   ],
   "source": [
    "for n in G.nodes:\n",
    "    if type(n)== str:\n",
    "        print(n + ' is a string!')\n",
    "    else:\n",
    "        print(str(n) + \" is not a string!\")"
   ]
  },
  {
   "cell_type": "markdown",
   "metadata": {},
   "source": [
    "### Checking whether nodes are in a Graph"
   ]
  },
  {
   "cell_type": "markdown",
   "metadata": {},
   "source": [
    "We can also check to see if a graph has a node several different ways. The easiest is just using the `in` keyword in python, but there is also the `has_node` function."
   ]
  },
  {
   "cell_type": "code",
   "execution_count": 12,
   "metadata": {
    "ExecuteTime": {
     "end_time": "2020-04-22T09:10:16.182685Z",
     "start_time": "2020-04-22T09:10:16.179307Z"
    }
   },
   "outputs": [
    {
     "data": {
      "text/plain": [
       "True"
      ]
     },
     "execution_count": 12,
     "metadata": {},
     "output_type": "execute_result"
    }
   ],
   "source": [
    "13 in G"
   ]
  },
  {
   "cell_type": "code",
   "execution_count": 13,
   "metadata": {
    "ExecuteTime": {
     "end_time": "2020-04-22T09:10:17.075900Z",
     "start_time": "2020-04-22T09:10:17.072423Z"
    }
   },
   "outputs": [
    {
     "data": {
      "text/plain": [
       "False"
      ]
     },
     "execution_count": 13,
     "metadata": {},
     "output_type": "execute_result"
    }
   ],
   "source": [
    "9 in G"
   ]
  },
  {
   "cell_type": "code",
   "execution_count": 14,
   "metadata": {
    "ExecuteTime": {
     "end_time": "2020-04-22T09:10:18.773518Z",
     "start_time": "2020-04-22T09:10:18.768947Z"
    }
   },
   "outputs": [
    {
     "data": {
      "text/plain": [
       "True"
      ]
     },
     "execution_count": 14,
     "metadata": {},
     "output_type": "execute_result"
    }
   ],
   "source": [
    "G.has_node(13)"
   ]
  },
  {
   "cell_type": "code",
   "execution_count": 15,
   "metadata": {
    "ExecuteTime": {
     "end_time": "2020-04-22T09:10:19.424151Z",
     "start_time": "2020-04-22T09:10:19.419885Z"
    }
   },
   "outputs": [
    {
     "data": {
      "text/plain": [
       "False"
      ]
     },
     "execution_count": 15,
     "metadata": {},
     "output_type": "execute_result"
    }
   ],
   "source": [
    "G.has_node(9)"
   ]
  },
  {
   "cell_type": "markdown",
   "metadata": {},
   "source": [
    "### Node attributes"
   ]
  },
  {
   "cell_type": "markdown",
   "metadata": {},
   "source": [
    "You can also add attributes to nodes. This can be handy for storing information about nodes within the graph object. This can be done when you create new nodes using keyword arguments to the `add_node` and `add_nodes_from` function"
   ]
  },
  {
   "cell_type": "code",
   "execution_count": 16,
   "metadata": {
    "ExecuteTime": {
     "end_time": "2020-04-22T09:10:37.487547Z",
     "start_time": "2020-04-22T09:10:37.484902Z"
    }
   },
   "outputs": [],
   "source": [
    "G.add_node('Spam', company='Hormel', food='meat')"
   ]
  },
  {
   "cell_type": "markdown",
   "metadata": {},
   "source": [
    "When using `add_nodes_from` you provide a tuple with the first element being the node, and the second being a dictionary of attributes for that node. You can also add attributes which will be applied to all added nodes using keyword arguments"
   ]
  },
  {
   "cell_type": "code",
   "execution_count": 17,
   "metadata": {
    "ExecuteTime": {
     "end_time": "2020-04-22T09:10:43.359798Z",
     "start_time": "2020-04-22T09:10:43.356705Z"
    }
   },
   "outputs": [],
   "source": [
    "G.add_nodes_from([('Bologna', {'company': 'Oscar Meyer'}),\n",
    "                  ('Bacon', {'company': 'Wright'}),\n",
    "                  ('Sausage', {'company': 'Jimmy Dean'})], food='meat')"
   ]
  },
  {
   "cell_type": "markdown",
   "metadata": {},
   "source": [
    "\n",
    "To list node attributes you need to provide the `data=True` keyword to the `nodes` and `nodes_iter` functions"
   ]
  },
  {
   "cell_type": "code",
   "execution_count": 18,
   "metadata": {
    "ExecuteTime": {
     "end_time": "2020-04-22T09:10:47.178525Z",
     "start_time": "2020-04-22T09:10:47.175068Z"
    }
   },
   "outputs": [
    {
     "data": {
      "text/plain": [
       "NodeDataView({0: {}, 'A': {}, ('x', 1.2): {}, 2: {}, 4: {}, 6: {}, 8: {}, 10: {}, 11: {}, 12: {}, 13: {}, 14: {}, 'Spam': {'company': 'Hormel', 'food': 'meat'}, 'Bologna': {'food': 'meat', 'company': 'Oscar Meyer'}, 'Bacon': {'food': 'meat', 'company': 'Wright'}, 'Sausage': {'food': 'meat', 'company': 'Jimmy Dean'}})"
      ]
     },
     "execution_count": 18,
     "metadata": {},
     "output_type": "execute_result"
    }
   ],
   "source": [
    "G.nodes(data=True)"
   ]
  },
  {
   "cell_type": "markdown",
   "metadata": {},
   "source": [
    "Attributes are stored in a special dictionary within the graph called `nodes` you can access, edit and remove attributes there"
   ]
  },
  {
   "cell_type": "code",
   "execution_count": 19,
   "metadata": {
    "ExecuteTime": {
     "end_time": "2020-04-22T09:10:51.215782Z",
     "start_time": "2020-04-22T09:10:51.212175Z"
    }
   },
   "outputs": [
    {
     "data": {
      "text/plain": [
       "{'company': 'Hormel', 'food': 'meat'}"
      ]
     },
     "execution_count": 19,
     "metadata": {},
     "output_type": "execute_result"
    }
   ],
   "source": [
    "G.nodes['Spam']"
   ]
  },
  {
   "cell_type": "code",
   "execution_count": 20,
   "metadata": {
    "ExecuteTime": {
     "end_time": "2020-04-22T09:10:53.090959Z",
     "start_time": "2020-04-22T09:10:53.087697Z"
    }
   },
   "outputs": [],
   "source": [
    "G.nodes['Spam']['Delicious'] = True\n",
    "G.nodes[6]['integer'] = True"
   ]
  },
  {
   "cell_type": "code",
   "execution_count": 21,
   "metadata": {
    "ExecuteTime": {
     "end_time": "2020-04-22T09:10:55.256011Z",
     "start_time": "2020-04-22T09:10:55.252842Z"
    }
   },
   "outputs": [
    {
     "data": {
      "text/plain": [
       "NodeDataView({0: {}, 'A': {}, ('x', 1.2): {}, 2: {}, 4: {}, 6: {'integer': True}, 8: {}, 10: {}, 11: {}, 12: {}, 13: {}, 14: {}, 'Spam': {'company': 'Hormel', 'food': 'meat', 'Delicious': True}, 'Bologna': {'food': 'meat', 'company': 'Oscar Meyer'}, 'Bacon': {'food': 'meat', 'company': 'Wright'}, 'Sausage': {'food': 'meat', 'company': 'Jimmy Dean'}})"
      ]
     },
     "execution_count": 21,
     "metadata": {},
     "output_type": "execute_result"
    }
   ],
   "source": [
    "G.nodes(data=True)"
   ]
  },
  {
   "cell_type": "code",
   "execution_count": 22,
   "metadata": {
    "ExecuteTime": {
     "end_time": "2020-04-22T09:10:57.153192Z",
     "start_time": "2020-04-22T09:10:57.150427Z"
    }
   },
   "outputs": [],
   "source": [
    "del G.nodes[6]['integer']"
   ]
  },
  {
   "cell_type": "code",
   "execution_count": 23,
   "metadata": {
    "ExecuteTime": {
     "end_time": "2020-04-22T09:10:58.487300Z",
     "start_time": "2020-04-22T09:10:58.483976Z"
    }
   },
   "outputs": [
    {
     "data": {
      "text/plain": [
       "NodeDataView({0: {}, 'A': {}, ('x', 1.2): {}, 2: {}, 4: {}, 6: {}, 8: {}, 10: {}, 11: {}, 12: {}, 13: {}, 14: {}, 'Spam': {'company': 'Hormel', 'food': 'meat', 'Delicious': True}, 'Bologna': {'food': 'meat', 'company': 'Oscar Meyer'}, 'Bacon': {'food': 'meat', 'company': 'Wright'}, 'Sausage': {'food': 'meat', 'company': 'Jimmy Dean'}})"
      ]
     },
     "execution_count": 23,
     "metadata": {},
     "output_type": "execute_result"
    }
   ],
   "source": [
    "G.nodes(data=True)"
   ]
  },
  {
   "cell_type": "markdown",
   "metadata": {},
   "source": [
    "Similiarly, you can remove nodes with the `remove_node` and `remove_nodes_from` functions"
   ]
  },
  {
   "cell_type": "code",
   "execution_count": 24,
   "metadata": {
    "ExecuteTime": {
     "end_time": "2020-04-22T09:10:59.952682Z",
     "start_time": "2020-04-22T09:10:59.949625Z"
    }
   },
   "outputs": [],
   "source": [
    "G.remove_node(14)\n",
    "G.remove_nodes_from([10,11,12,13])"
   ]
  },
  {
   "cell_type": "code",
   "execution_count": 25,
   "metadata": {
    "ExecuteTime": {
     "end_time": "2020-04-22T09:11:04.278953Z",
     "start_time": "2020-04-22T09:11:04.275041Z"
    }
   },
   "outputs": [
    {
     "data": {
      "text/plain": [
       "NodeView((0, 'A', ('x', 1.2), 2, 4, 6, 8, 'Spam', 'Bologna', 'Bacon', 'Sausage'))"
      ]
     },
     "execution_count": 25,
     "metadata": {},
     "output_type": "execute_result"
    }
   ],
   "source": [
    "G.nodes()"
   ]
  },
  {
   "cell_type": "markdown",
   "metadata": {},
   "source": [
    "### Exercises"
   ]
  },
  {
   "cell_type": "markdown",
   "metadata": {},
   "source": [
    "#### Repeated Nodes"
   ]
  },
  {
   "cell_type": "markdown",
   "metadata": {},
   "source": [
    "1. What happens when you add nodes to a graph that already exist?\n",
    "2. What happens when you add nodes to the graph that already exist but have new attributes?\n",
    "3. What happens when you add nodes to a graph with attributes different from existing nodes?\n",
    "4. Try removing a node that doesn't exist, what happens?"
   ]
  },
  {
   "cell_type": "code",
   "execution_count": 37,
   "metadata": {},
   "outputs": [
    {
     "name": "stdout",
     "output_type": "stream",
     "text": [
      "[0, 'A', ('x', 1.2), 2, 4, 6, 8, 'Spam', 'Bologna', 'Bacon', 'Sausage', 'Ham', 'Eggs', ('x', 1.5), ('y', 1.1), ('y', 1.2)]\n",
      "[0, 'A', ('x', 1.2), 2, 4, 6, 8, 'Spam', 'Bologna', 'Bacon', 'Sausage', 'Ham', 'Eggs', ('x', 1.5), ('y', 1.1), ('y', 1.2)]\n",
      "[0, 'A', ('x', 1.2), 2, 4, 6, 8, 'Spam', 'Bologna', 'Bacon', 'Sausage', 'Ham', 'Eggs', ('x', 1.5), ('y', 1.1), ('y', 1.2)]\n"
     ]
    },
    {
     "ename": "NetworkXError",
     "evalue": "The node 14 is not in the graph.",
     "output_type": "error",
     "traceback": [
      "\u001b[1;31m---------------------------------------------------------------------------\u001b[0m",
      "\u001b[1;31mKeyError\u001b[0m                                  Traceback (most recent call last)",
      "File \u001b[1;32m~\\miniconda3\\envs\\networks\\Lib\\site-packages\\networkx\\classes\\graph.py:672\u001b[0m, in \u001b[0;36mGraph.remove_node\u001b[1;34m(self, n)\u001b[0m\n\u001b[0;32m    671\u001b[0m \u001b[38;5;28;01mtry\u001b[39;00m:\n\u001b[1;32m--> 672\u001b[0m     nbrs \u001b[38;5;241m=\u001b[39m \u001b[38;5;28mlist\u001b[39m(adj[n])  \u001b[38;5;66;03m# list handles self-loops (allows mutation)\u001b[39;00m\n\u001b[0;32m    673\u001b[0m     \u001b[38;5;28;01mdel\u001b[39;00m \u001b[38;5;28mself\u001b[39m\u001b[38;5;241m.\u001b[39m_node[n]\n",
      "\u001b[1;31mKeyError\u001b[0m: 14",
      "\nThe above exception was the direct cause of the following exception:\n",
      "\u001b[1;31mNetworkXError\u001b[0m                             Traceback (most recent call last)",
      "Cell \u001b[1;32mIn[37], line 14\u001b[0m\n\u001b[0;32m     11\u001b[0m \u001b[38;5;28mprint\u001b[39m(G\u001b[38;5;241m.\u001b[39mnodes())\n\u001b[0;32m     13\u001b[0m \u001b[38;5;66;03m# 4\u001b[39;00m\n\u001b[1;32m---> 14\u001b[0m G\u001b[38;5;241m.\u001b[39mremove_node(\u001b[38;5;241m14\u001b[39m)\n",
      "File \u001b[1;32m~\\miniconda3\\envs\\networks\\Lib\\site-packages\\networkx\\classes\\graph.py:675\u001b[0m, in \u001b[0;36mGraph.remove_node\u001b[1;34m(self, n)\u001b[0m\n\u001b[0;32m    673\u001b[0m     \u001b[38;5;28;01mdel\u001b[39;00m \u001b[38;5;28mself\u001b[39m\u001b[38;5;241m.\u001b[39m_node[n]\n\u001b[0;32m    674\u001b[0m \u001b[38;5;28;01mexcept\u001b[39;00m \u001b[38;5;167;01mKeyError\u001b[39;00m \u001b[38;5;28;01mas\u001b[39;00m err:  \u001b[38;5;66;03m# NetworkXError if n not in self\u001b[39;00m\n\u001b[1;32m--> 675\u001b[0m     \u001b[38;5;28;01mraise\u001b[39;00m NetworkXError(\u001b[38;5;124mf\u001b[39m\u001b[38;5;124m\"\u001b[39m\u001b[38;5;124mThe node \u001b[39m\u001b[38;5;132;01m{\u001b[39;00mn\u001b[38;5;132;01m}\u001b[39;00m\u001b[38;5;124m is not in the graph.\u001b[39m\u001b[38;5;124m\"\u001b[39m) \u001b[38;5;28;01mfrom\u001b[39;00m \u001b[38;5;21;01merr\u001b[39;00m\n\u001b[0;32m    676\u001b[0m \u001b[38;5;28;01mfor\u001b[39;00m u \u001b[38;5;129;01min\u001b[39;00m nbrs:\n\u001b[0;32m    677\u001b[0m     \u001b[38;5;28;01mdel\u001b[39;00m adj[u][n]  \u001b[38;5;66;03m# remove all edges n-u in graph\u001b[39;00m\n",
      "\u001b[1;31mNetworkXError\u001b[0m: The node 14 is not in the graph."
     ]
    }
   ],
   "source": [
    "# 1\n",
    "G.add_node(0)\n",
    "print(G.nodes())\n",
    "\n",
    "# 2\n",
    "G.add_node(('x',1.5))\n",
    "print(G.nodes())\n",
    "\n",
    "# 3\n",
    "G.add_node(('y',1.2))\n",
    "print(G.nodes())\n",
    "\n",
    "# 4\n",
    "G.remove_node(14)"
   ]
  },
  {
   "cell_type": "markdown",
   "metadata": {},
   "source": [
    "#### The FizzBuzz Graph"
   ]
  },
  {
   "cell_type": "markdown",
   "metadata": {},
   "source": [
    "Using the spaces provided below make a new graph, `FizzBuzz`. Add nodes labeled 0 to 100 to the graph. Each node should have an attribute 'fizz' and 'buzz'. If the nodes label is divisble by 3 `fizz=True` if it is divisble by 5 `buzz=True`, otherwise both are false."
   ]
  },
  {
   "cell_type": "code",
   "execution_count": 44,
   "metadata": {},
   "outputs": [
    {
     "name": "stdout",
     "output_type": "stream",
     "text": [
      "Node: 0\n",
      "Fizz: True\n",
      "Buzz: True\n",
      "\n",
      "Node: 1\n",
      "Fizz: False\n",
      "Buzz: False\n",
      "\n",
      "Node: 2\n",
      "Fizz: False\n",
      "Buzz: False\n",
      "\n",
      "Node: 3\n",
      "Fizz: True\n",
      "Buzz: False\n",
      "\n",
      "Node: 4\n",
      "Fizz: False\n",
      "Buzz: False\n",
      "\n",
      "Node: 5\n",
      "Fizz: False\n",
      "Buzz: True\n",
      "\n",
      "Node: 6\n",
      "Fizz: True\n",
      "Buzz: False\n",
      "\n",
      "Node: 7\n",
      "Fizz: False\n",
      "Buzz: False\n",
      "\n",
      "Node: 8\n",
      "Fizz: False\n",
      "Buzz: False\n",
      "\n",
      "Node: 9\n",
      "Fizz: True\n",
      "Buzz: False\n",
      "\n",
      "Node: 10\n",
      "Fizz: False\n",
      "Buzz: True\n",
      "\n",
      "Node: 11\n",
      "Fizz: False\n",
      "Buzz: False\n",
      "\n",
      "Node: 12\n",
      "Fizz: True\n",
      "Buzz: False\n",
      "\n",
      "Node: 13\n",
      "Fizz: False\n",
      "Buzz: False\n",
      "\n",
      "Node: 14\n",
      "Fizz: False\n",
      "Buzz: False\n",
      "\n",
      "Node: 15\n",
      "Fizz: True\n",
      "Buzz: True\n",
      "\n",
      "Node: 16\n",
      "Fizz: False\n",
      "Buzz: False\n",
      "\n",
      "Node: 17\n",
      "Fizz: False\n",
      "Buzz: False\n",
      "\n",
      "Node: 18\n",
      "Fizz: True\n",
      "Buzz: False\n",
      "\n",
      "Node: 19\n",
      "Fizz: False\n",
      "Buzz: False\n",
      "\n",
      "Node: 20\n",
      "Fizz: False\n",
      "Buzz: True\n",
      "\n",
      "Node: 21\n",
      "Fizz: True\n",
      "Buzz: False\n",
      "\n",
      "Node: 22\n",
      "Fizz: False\n",
      "Buzz: False\n",
      "\n",
      "Node: 23\n",
      "Fizz: False\n",
      "Buzz: False\n",
      "\n",
      "Node: 24\n",
      "Fizz: True\n",
      "Buzz: False\n",
      "\n",
      "Node: 25\n",
      "Fizz: False\n",
      "Buzz: True\n",
      "\n",
      "Node: 26\n",
      "Fizz: False\n",
      "Buzz: False\n",
      "\n",
      "Node: 27\n",
      "Fizz: True\n",
      "Buzz: False\n",
      "\n",
      "Node: 28\n",
      "Fizz: False\n",
      "Buzz: False\n",
      "\n",
      "Node: 29\n",
      "Fizz: False\n",
      "Buzz: False\n",
      "\n",
      "Node: 30\n",
      "Fizz: True\n",
      "Buzz: True\n",
      "\n",
      "Node: 31\n",
      "Fizz: False\n",
      "Buzz: False\n",
      "\n",
      "Node: 32\n",
      "Fizz: False\n",
      "Buzz: False\n",
      "\n",
      "Node: 33\n",
      "Fizz: True\n",
      "Buzz: False\n",
      "\n",
      "Node: 34\n",
      "Fizz: False\n",
      "Buzz: False\n",
      "\n",
      "Node: 35\n",
      "Fizz: False\n",
      "Buzz: True\n",
      "\n",
      "Node: 36\n",
      "Fizz: True\n",
      "Buzz: False\n",
      "\n",
      "Node: 37\n",
      "Fizz: False\n",
      "Buzz: False\n",
      "\n",
      "Node: 38\n",
      "Fizz: False\n",
      "Buzz: False\n",
      "\n",
      "Node: 39\n",
      "Fizz: True\n",
      "Buzz: False\n",
      "\n",
      "Node: 40\n",
      "Fizz: False\n",
      "Buzz: True\n",
      "\n",
      "Node: 41\n",
      "Fizz: False\n",
      "Buzz: False\n",
      "\n",
      "Node: 42\n",
      "Fizz: True\n",
      "Buzz: False\n",
      "\n",
      "Node: 43\n",
      "Fizz: False\n",
      "Buzz: False\n",
      "\n",
      "Node: 44\n",
      "Fizz: False\n",
      "Buzz: False\n",
      "\n",
      "Node: 45\n",
      "Fizz: True\n",
      "Buzz: True\n",
      "\n",
      "Node: 46\n",
      "Fizz: False\n",
      "Buzz: False\n",
      "\n",
      "Node: 47\n",
      "Fizz: False\n",
      "Buzz: False\n",
      "\n",
      "Node: 48\n",
      "Fizz: True\n",
      "Buzz: False\n",
      "\n",
      "Node: 49\n",
      "Fizz: False\n",
      "Buzz: False\n",
      "\n",
      "Node: 50\n",
      "Fizz: False\n",
      "Buzz: True\n",
      "\n",
      "Node: 51\n",
      "Fizz: True\n",
      "Buzz: False\n",
      "\n",
      "Node: 52\n",
      "Fizz: False\n",
      "Buzz: False\n",
      "\n",
      "Node: 53\n",
      "Fizz: False\n",
      "Buzz: False\n",
      "\n",
      "Node: 54\n",
      "Fizz: True\n",
      "Buzz: False\n",
      "\n",
      "Node: 55\n",
      "Fizz: False\n",
      "Buzz: True\n",
      "\n",
      "Node: 56\n",
      "Fizz: False\n",
      "Buzz: False\n",
      "\n",
      "Node: 57\n",
      "Fizz: True\n",
      "Buzz: False\n",
      "\n",
      "Node: 58\n",
      "Fizz: False\n",
      "Buzz: False\n",
      "\n",
      "Node: 59\n",
      "Fizz: False\n",
      "Buzz: False\n",
      "\n",
      "Node: 60\n",
      "Fizz: True\n",
      "Buzz: True\n",
      "\n",
      "Node: 61\n",
      "Fizz: False\n",
      "Buzz: False\n",
      "\n",
      "Node: 62\n",
      "Fizz: False\n",
      "Buzz: False\n",
      "\n",
      "Node: 63\n",
      "Fizz: True\n",
      "Buzz: False\n",
      "\n",
      "Node: 64\n",
      "Fizz: False\n",
      "Buzz: False\n",
      "\n",
      "Node: 65\n",
      "Fizz: False\n",
      "Buzz: True\n",
      "\n",
      "Node: 66\n",
      "Fizz: True\n",
      "Buzz: False\n",
      "\n",
      "Node: 67\n",
      "Fizz: False\n",
      "Buzz: False\n",
      "\n",
      "Node: 68\n",
      "Fizz: False\n",
      "Buzz: False\n",
      "\n",
      "Node: 69\n",
      "Fizz: True\n",
      "Buzz: False\n",
      "\n",
      "Node: 70\n",
      "Fizz: False\n",
      "Buzz: True\n",
      "\n",
      "Node: 71\n",
      "Fizz: False\n",
      "Buzz: False\n",
      "\n",
      "Node: 72\n",
      "Fizz: True\n",
      "Buzz: False\n",
      "\n",
      "Node: 73\n",
      "Fizz: False\n",
      "Buzz: False\n",
      "\n",
      "Node: 74\n",
      "Fizz: False\n",
      "Buzz: False\n",
      "\n",
      "Node: 75\n",
      "Fizz: True\n",
      "Buzz: True\n",
      "\n",
      "Node: 76\n",
      "Fizz: False\n",
      "Buzz: False\n",
      "\n",
      "Node: 77\n",
      "Fizz: False\n",
      "Buzz: False\n",
      "\n",
      "Node: 78\n",
      "Fizz: True\n",
      "Buzz: False\n",
      "\n",
      "Node: 79\n",
      "Fizz: False\n",
      "Buzz: False\n",
      "\n",
      "Node: 80\n",
      "Fizz: False\n",
      "Buzz: True\n",
      "\n",
      "Node: 81\n",
      "Fizz: True\n",
      "Buzz: False\n",
      "\n",
      "Node: 82\n",
      "Fizz: False\n",
      "Buzz: False\n",
      "\n",
      "Node: 83\n",
      "Fizz: False\n",
      "Buzz: False\n",
      "\n",
      "Node: 84\n",
      "Fizz: True\n",
      "Buzz: False\n",
      "\n",
      "Node: 85\n",
      "Fizz: False\n",
      "Buzz: True\n",
      "\n",
      "Node: 86\n",
      "Fizz: False\n",
      "Buzz: False\n",
      "\n",
      "Node: 87\n",
      "Fizz: True\n",
      "Buzz: False\n",
      "\n",
      "Node: 88\n",
      "Fizz: False\n",
      "Buzz: False\n",
      "\n",
      "Node: 89\n",
      "Fizz: False\n",
      "Buzz: False\n",
      "\n",
      "Node: 90\n",
      "Fizz: True\n",
      "Buzz: True\n",
      "\n",
      "Node: 91\n",
      "Fizz: False\n",
      "Buzz: False\n",
      "\n",
      "Node: 92\n",
      "Fizz: False\n",
      "Buzz: False\n",
      "\n",
      "Node: 93\n",
      "Fizz: True\n",
      "Buzz: False\n",
      "\n",
      "Node: 94\n",
      "Fizz: False\n",
      "Buzz: False\n",
      "\n",
      "Node: 95\n",
      "Fizz: False\n",
      "Buzz: True\n",
      "\n",
      "Node: 96\n",
      "Fizz: True\n",
      "Buzz: False\n",
      "\n",
      "Node: 97\n",
      "Fizz: False\n",
      "Buzz: False\n",
      "\n",
      "Node: 98\n",
      "Fizz: False\n",
      "Buzz: False\n",
      "\n",
      "Node: 99\n",
      "Fizz: True\n",
      "Buzz: False\n",
      "\n",
      "Node: 100\n",
      "Fizz: False\n",
      "Buzz: True\n",
      "\n"
     ]
    }
   ],
   "source": [
    "graph = nx.Graph(name=\"FizzBuzz\")\n",
    "\n",
    "for i in range(101):\n",
    "    graph.add_node(\n",
    "        i, \n",
    "        fizz = (i % 3 == 0), \n",
    "        buzz = (i % 5 == 0)\n",
    "    )\n",
    "    \n",
    "for node in graph.nodes():\n",
    "    print(\"Node:\", node)\n",
    "    print(\"Fizz:\", graph.nodes[node]['fizz'])\n",
    "    print(\"Buzz:\", graph.nodes[node]['buzz'])\n",
    "    print()"
   ]
  },
  {
   "cell_type": "markdown",
   "metadata": {},
   "source": [
    "## Edges"
   ]
  },
  {
   "cell_type": "markdown",
   "metadata": {},
   "source": [
    "Adding edges is similar to adding nodes. They can be added, using either `add_edge` or `add_edges_from`. They can also have attributes in the same way nodes can. If you add an edge that includes a node that doesn't exist it will create it for you"
   ]
  },
  {
   "cell_type": "code",
   "execution_count": 26,
   "metadata": {
    "ExecuteTime": {
     "end_time": "2020-04-22T09:11:34.219684Z",
     "start_time": "2020-04-22T09:11:34.217104Z"
    }
   },
   "outputs": [],
   "source": [
    "G.add_edge('Bacon', 'Sausage', breakfast=True)\n",
    "G.add_edge('Ham', 'Bacon', breakfast=True)\n",
    "G.add_edge('Spam', 'Eggs', breakfast=True)"
   ]
  },
  {
   "cell_type": "markdown",
   "metadata": {},
   "source": [
    "Here we are using a list comprehension. This is an easy way to construct lists using a single line. Learn more about list comprehensions [here](https://docs.python.org/2/tutorial/datastructures.html#list-comprehensions)."
   ]
  },
  {
   "cell_type": "code",
   "execution_count": 27,
   "metadata": {
    "ExecuteTime": {
     "end_time": "2020-04-22T09:11:35.479260Z",
     "start_time": "2020-04-22T09:11:35.476691Z"
    }
   },
   "outputs": [],
   "source": [
    "G.add_edges_from([(i,i+2) for i in range(2,8,2)])"
   ]
  },
  {
   "cell_type": "code",
   "execution_count": 28,
   "metadata": {
    "ExecuteTime": {
     "end_time": "2020-04-22T09:11:38.437695Z",
     "start_time": "2020-04-22T09:11:38.434345Z"
    }
   },
   "outputs": [
    {
     "data": {
      "text/plain": [
       "EdgeView([(2, 4), (4, 6), (6, 8), ('Spam', 'Eggs'), ('Bacon', 'Sausage'), ('Bacon', 'Ham')])"
      ]
     },
     "execution_count": 28,
     "metadata": {},
     "output_type": "execute_result"
    }
   ],
   "source": [
    "G.edges()"
   ]
  },
  {
   "cell_type": "code",
   "execution_count": 29,
   "metadata": {
    "ExecuteTime": {
     "end_time": "2020-04-22T09:11:39.612222Z",
     "start_time": "2020-04-22T09:11:39.608300Z"
    }
   },
   "outputs": [
    {
     "data": {
      "text/plain": [
       "EdgeDataView([(2, 4, {}), (4, 6, {}), (6, 8, {}), ('Spam', 'Eggs', {'breakfast': True}), ('Bacon', 'Sausage', {'breakfast': True}), ('Bacon', 'Ham', {'breakfast': True})])"
      ]
     },
     "execution_count": 29,
     "metadata": {},
     "output_type": "execute_result"
    }
   ],
   "source": [
    "G.edges(data=True)"
   ]
  },
  {
   "cell_type": "markdown",
   "metadata": {},
   "source": [
    "Removing edges is accomplished by using the `remove_edge` or `remove_edges_from` function. Remove edge attributes can be done by indexing into the graph"
   ]
  },
  {
   "cell_type": "code",
   "execution_count": 30,
   "metadata": {
    "ExecuteTime": {
     "end_time": "2020-04-22T09:11:42.272053Z",
     "start_time": "2020-04-22T09:11:42.268676Z"
    }
   },
   "outputs": [
    {
     "data": {
      "text/plain": [
       "{'breakfast': True}"
      ]
     },
     "execution_count": 30,
     "metadata": {},
     "output_type": "execute_result"
    }
   ],
   "source": [
    "G['Spam']['Eggs']"
   ]
  },
  {
   "cell_type": "code",
   "execution_count": 45,
   "metadata": {
    "ExecuteTime": {
     "end_time": "2020-04-22T09:11:42.592212Z",
     "start_time": "2020-04-22T09:11:42.589676Z"
    }
   },
   "outputs": [
    {
     "ename": "KeyError",
     "evalue": "'breakfast'",
     "output_type": "error",
     "traceback": [
      "\u001b[1;31m---------------------------------------------------------------------------\u001b[0m",
      "\u001b[1;31mKeyError\u001b[0m                                  Traceback (most recent call last)",
      "Cell \u001b[1;32mIn[45], line 1\u001b[0m\n\u001b[1;32m----> 1\u001b[0m \u001b[38;5;28;01mdel\u001b[39;00m G[\u001b[38;5;124m'\u001b[39m\u001b[38;5;124mSpam\u001b[39m\u001b[38;5;124m'\u001b[39m][\u001b[38;5;124m'\u001b[39m\u001b[38;5;124mEggs\u001b[39m\u001b[38;5;124m'\u001b[39m][\u001b[38;5;124m'\u001b[39m\u001b[38;5;124mbreakfast\u001b[39m\u001b[38;5;124m'\u001b[39m]\n",
      "\u001b[1;31mKeyError\u001b[0m: 'breakfast'"
     ]
    }
   ],
   "source": [
    "del G['Spam']['Eggs']['breakfast']"
   ]
  },
  {
   "cell_type": "code",
   "execution_count": 46,
   "metadata": {
    "ExecuteTime": {
     "end_time": "2020-04-22T09:11:43.145733Z",
     "start_time": "2020-04-22T09:11:43.143108Z"
    }
   },
   "outputs": [],
   "source": [
    "G.remove_edge(2,4)"
   ]
  },
  {
   "cell_type": "code",
   "execution_count": 47,
   "metadata": {
    "ExecuteTime": {
     "end_time": "2020-04-22T09:11:44.246975Z",
     "start_time": "2020-04-22T09:11:44.243358Z"
    }
   },
   "outputs": [
    {
     "data": {
      "text/plain": [
       "EdgeDataView([(4, 6, {}), (6, 8, {}), ('Spam', 'Eggs', {}), ('Bacon', 'Sausage', {'breakfast': True}), ('Bacon', 'Ham', {'breakfast': True})])"
      ]
     },
     "execution_count": 47,
     "metadata": {},
     "output_type": "execute_result"
    }
   ],
   "source": [
    "G.edges(data=True)"
   ]
  },
  {
   "cell_type": "markdown",
   "metadata": {},
   "source": [
    "You can check for the existance of edges with `has_edge`"
   ]
  },
  {
   "cell_type": "code",
   "execution_count": 48,
   "metadata": {
    "ExecuteTime": {
     "end_time": "2020-04-22T09:11:45.244888Z",
     "start_time": "2020-04-22T09:11:45.241504Z"
    }
   },
   "outputs": [
    {
     "data": {
      "text/plain": [
       "False"
      ]
     },
     "execution_count": 48,
     "metadata": {},
     "output_type": "execute_result"
    }
   ],
   "source": [
    "G.has_edge(2,4)"
   ]
  },
  {
   "cell_type": "code",
   "execution_count": 49,
   "metadata": {
    "ExecuteTime": {
     "end_time": "2020-04-22T09:11:45.625490Z",
     "start_time": "2020-04-22T09:11:45.617878Z"
    }
   },
   "outputs": [
    {
     "data": {
      "text/plain": [
       "True"
      ]
     },
     "execution_count": 49,
     "metadata": {},
     "output_type": "execute_result"
    }
   ],
   "source": [
    "G.has_edge('Ham','Bacon')"
   ]
  },
  {
   "cell_type": "markdown",
   "metadata": {},
   "source": [
    "For directed graphs, ordering matters. `add_edge(u,v)` will add an edge from `u` to `v`"
   ]
  },
  {
   "cell_type": "code",
   "execution_count": 50,
   "metadata": {
    "ExecuteTime": {
     "end_time": "2020-04-22T09:11:49.106659Z",
     "start_time": "2020-04-22T09:11:49.104147Z"
    }
   },
   "outputs": [],
   "source": [
    "D.add_nodes_from(range(10))"
   ]
  },
  {
   "cell_type": "code",
   "execution_count": 51,
   "metadata": {
    "ExecuteTime": {
     "end_time": "2020-04-22T09:11:50.090494Z",
     "start_time": "2020-04-22T09:11:50.087972Z"
    }
   },
   "outputs": [],
   "source": [
    "D.add_edges_from([(i,i+1 % 10) for i in range(0,10)])"
   ]
  },
  {
   "cell_type": "code",
   "execution_count": 52,
   "metadata": {
    "ExecuteTime": {
     "end_time": "2020-04-22T09:11:50.429436Z",
     "start_time": "2020-04-22T09:11:50.426464Z"
    }
   },
   "outputs": [
    {
     "data": {
      "text/plain": [
       "OutEdgeView([(0, 1), (1, 2), (2, 3), (3, 4), (4, 5), (5, 6), (6, 7), (7, 8), (8, 9), (9, 10)])"
      ]
     },
     "execution_count": 52,
     "metadata": {},
     "output_type": "execute_result"
    }
   ],
   "source": [
    "D.edges()"
   ]
  },
  {
   "cell_type": "code",
   "execution_count": 53,
   "metadata": {
    "ExecuteTime": {
     "end_time": "2020-04-22T09:11:51.475241Z",
     "start_time": "2020-04-22T09:11:51.471965Z"
    }
   },
   "outputs": [
    {
     "data": {
      "text/plain": [
       "True"
      ]
     },
     "execution_count": 53,
     "metadata": {},
     "output_type": "execute_result"
    }
   ],
   "source": [
    "D.has_edge(0,1)"
   ]
  },
  {
   "cell_type": "code",
   "execution_count": 54,
   "metadata": {
    "ExecuteTime": {
     "end_time": "2020-04-22T09:11:51.682143Z",
     "start_time": "2020-04-22T09:11:51.678608Z"
    }
   },
   "outputs": [
    {
     "data": {
      "text/plain": [
       "False"
      ]
     },
     "execution_count": 54,
     "metadata": {},
     "output_type": "execute_result"
    }
   ],
   "source": [
    "D.has_edge(1,0)"
   ]
  },
  {
   "cell_type": "markdown",
   "metadata": {},
   "source": [
    "You can also access edges for only a subset of nodes by passing edges a collection of nodes"
   ]
  },
  {
   "cell_type": "code",
   "execution_count": 55,
   "metadata": {
    "ExecuteTime": {
     "end_time": "2020-04-22T09:11:52.992646Z",
     "start_time": "2020-04-22T09:11:52.989281Z"
    }
   },
   "outputs": [
    {
     "data": {
      "text/plain": [
       "OutEdgeDataView([(3, 4), (4, 5), (5, 6)])"
      ]
     },
     "execution_count": 55,
     "metadata": {},
     "output_type": "execute_result"
    }
   ],
   "source": [
    "D.edges([3,4,5])"
   ]
  },
  {
   "cell_type": "markdown",
   "metadata": {},
   "source": [
    "### Exercises"
   ]
  },
  {
   "cell_type": "markdown",
   "metadata": {},
   "source": [
    "For the `FizzBuzz` graph above, add edges betweeen two nodes `u` and `v` if they are both divisible by 2 or by 7. Each edge should include attributes `div2` and `div7` which are true if `u` and `v` are divisible by 2 and 7 respecitively. Exclude self loops."
   ]
  },
  {
   "cell_type": "code",
   "execution_count": 56,
   "metadata": {},
   "outputs": [],
   "source": [
    "for u in graph.nodes():\n",
    "    for v in graph.nodes():\n",
    "        if (u % 2 == 0) and (v % 2 == 0) and (u != v):\n",
    "            graph.add_edge(u, v, div2=True)\n",
    "        \n",
    "        if (u % 7 == 0) and (v % 7 == 0) and (u != v):\n",
    "            graph.add_edge(u, v, div7=True)\n",
    "    "
   ]
  },
  {
   "cell_type": "code",
   "execution_count": 57,
   "metadata": {},
   "outputs": [
    {
     "data": {
      "text/plain": [
       "EdgeDataView([(0, 2, {'div2': True}), (0, 4, {'div2': True}), (0, 6, {'div2': True}), (0, 7, {'div7': True}), (0, 8, {'div2': True}), (0, 10, {'div2': True}), (0, 12, {'div2': True}), (0, 14, {'div2': True, 'div7': True}), (0, 16, {'div2': True}), (0, 18, {'div2': True}), (0, 20, {'div2': True}), (0, 21, {'div7': True}), (0, 22, {'div2': True}), (0, 24, {'div2': True}), (0, 26, {'div2': True}), (0, 28, {'div2': True, 'div7': True}), (0, 30, {'div2': True}), (0, 32, {'div2': True}), (0, 34, {'div2': True}), (0, 35, {'div7': True}), (0, 36, {'div2': True}), (0, 38, {'div2': True}), (0, 40, {'div2': True}), (0, 42, {'div2': True, 'div7': True}), (0, 44, {'div2': True}), (0, 46, {'div2': True}), (0, 48, {'div2': True}), (0, 49, {'div7': True}), (0, 50, {'div2': True}), (0, 52, {'div2': True}), (0, 54, {'div2': True}), (0, 56, {'div2': True, 'div7': True}), (0, 58, {'div2': True}), (0, 60, {'div2': True}), (0, 62, {'div2': True}), (0, 63, {'div7': True}), (0, 64, {'div2': True}), (0, 66, {'div2': True}), (0, 68, {'div2': True}), (0, 70, {'div2': True, 'div7': True}), (0, 72, {'div2': True}), (0, 74, {'div2': True}), (0, 76, {'div2': True}), (0, 77, {'div7': True}), (0, 78, {'div2': True}), (0, 80, {'div2': True}), (0, 82, {'div2': True}), (0, 84, {'div2': True, 'div7': True}), (0, 86, {'div2': True}), (0, 88, {'div2': True}), (0, 90, {'div2': True}), (0, 91, {'div7': True}), (0, 92, {'div2': True}), (0, 94, {'div2': True}), (0, 96, {'div2': True}), (0, 98, {'div2': True, 'div7': True}), (0, 100, {'div2': True}), (2, 4, {'div2': True}), (2, 6, {'div2': True}), (2, 8, {'div2': True}), (2, 10, {'div2': True}), (2, 12, {'div2': True}), (2, 14, {'div2': True}), (2, 16, {'div2': True}), (2, 18, {'div2': True}), (2, 20, {'div2': True}), (2, 22, {'div2': True}), (2, 24, {'div2': True}), (2, 26, {'div2': True}), (2, 28, {'div2': True}), (2, 30, {'div2': True}), (2, 32, {'div2': True}), (2, 34, {'div2': True}), (2, 36, {'div2': True}), (2, 38, {'div2': True}), (2, 40, {'div2': True}), (2, 42, {'div2': True}), (2, 44, {'div2': True}), (2, 46, {'div2': True}), (2, 48, {'div2': True}), (2, 50, {'div2': True}), (2, 52, {'div2': True}), (2, 54, {'div2': True}), (2, 56, {'div2': True}), (2, 58, {'div2': True}), (2, 60, {'div2': True}), (2, 62, {'div2': True}), (2, 64, {'div2': True}), (2, 66, {'div2': True}), (2, 68, {'div2': True}), (2, 70, {'div2': True}), (2, 72, {'div2': True}), (2, 74, {'div2': True}), (2, 76, {'div2': True}), (2, 78, {'div2': True}), (2, 80, {'div2': True}), (2, 82, {'div2': True}), (2, 84, {'div2': True}), (2, 86, {'div2': True}), (2, 88, {'div2': True}), (2, 90, {'div2': True}), (2, 92, {'div2': True}), (2, 94, {'div2': True}), (2, 96, {'div2': True}), (2, 98, {'div2': True}), (2, 100, {'div2': True}), (4, 6, {'div2': True}), (4, 8, {'div2': True}), (4, 10, {'div2': True}), (4, 12, {'div2': True}), (4, 14, {'div2': True}), (4, 16, {'div2': True}), (4, 18, {'div2': True}), (4, 20, {'div2': True}), (4, 22, {'div2': True}), (4, 24, {'div2': True}), (4, 26, {'div2': True}), (4, 28, {'div2': True}), (4, 30, {'div2': True}), (4, 32, {'div2': True}), (4, 34, {'div2': True}), (4, 36, {'div2': True}), (4, 38, {'div2': True}), (4, 40, {'div2': True}), (4, 42, {'div2': True}), (4, 44, {'div2': True}), (4, 46, {'div2': True}), (4, 48, {'div2': True}), (4, 50, {'div2': True}), (4, 52, {'div2': True}), (4, 54, {'div2': True}), (4, 56, {'div2': True}), (4, 58, {'div2': True}), (4, 60, {'div2': True}), (4, 62, {'div2': True}), (4, 64, {'div2': True}), (4, 66, {'div2': True}), (4, 68, {'div2': True}), (4, 70, {'div2': True}), (4, 72, {'div2': True}), (4, 74, {'div2': True}), (4, 76, {'div2': True}), (4, 78, {'div2': True}), (4, 80, {'div2': True}), (4, 82, {'div2': True}), (4, 84, {'div2': True}), (4, 86, {'div2': True}), (4, 88, {'div2': True}), (4, 90, {'div2': True}), (4, 92, {'div2': True}), (4, 94, {'div2': True}), (4, 96, {'div2': True}), (4, 98, {'div2': True}), (4, 100, {'div2': True}), (6, 8, {'div2': True}), (6, 10, {'div2': True}), (6, 12, {'div2': True}), (6, 14, {'div2': True}), (6, 16, {'div2': True}), (6, 18, {'div2': True}), (6, 20, {'div2': True}), (6, 22, {'div2': True}), (6, 24, {'div2': True}), (6, 26, {'div2': True}), (6, 28, {'div2': True}), (6, 30, {'div2': True}), (6, 32, {'div2': True}), (6, 34, {'div2': True}), (6, 36, {'div2': True}), (6, 38, {'div2': True}), (6, 40, {'div2': True}), (6, 42, {'div2': True}), (6, 44, {'div2': True}), (6, 46, {'div2': True}), (6, 48, {'div2': True}), (6, 50, {'div2': True}), (6, 52, {'div2': True}), (6, 54, {'div2': True}), (6, 56, {'div2': True}), (6, 58, {'div2': True}), (6, 60, {'div2': True}), (6, 62, {'div2': True}), (6, 64, {'div2': True}), (6, 66, {'div2': True}), (6, 68, {'div2': True}), (6, 70, {'div2': True}), (6, 72, {'div2': True}), (6, 74, {'div2': True}), (6, 76, {'div2': True}), (6, 78, {'div2': True}), (6, 80, {'div2': True}), (6, 82, {'div2': True}), (6, 84, {'div2': True}), (6, 86, {'div2': True}), (6, 88, {'div2': True}), (6, 90, {'div2': True}), (6, 92, {'div2': True}), (6, 94, {'div2': True}), (6, 96, {'div2': True}), (6, 98, {'div2': True}), (6, 100, {'div2': True}), (7, 14, {'div7': True}), (7, 21, {'div7': True}), (7, 28, {'div7': True}), (7, 35, {'div7': True}), (7, 42, {'div7': True}), (7, 49, {'div7': True}), (7, 56, {'div7': True}), (7, 63, {'div7': True}), (7, 70, {'div7': True}), (7, 77, {'div7': True}), (7, 84, {'div7': True}), (7, 91, {'div7': True}), (7, 98, {'div7': True}), (8, 10, {'div2': True}), (8, 12, {'div2': True}), (8, 14, {'div2': True}), (8, 16, {'div2': True}), (8, 18, {'div2': True}), (8, 20, {'div2': True}), (8, 22, {'div2': True}), (8, 24, {'div2': True}), (8, 26, {'div2': True}), (8, 28, {'div2': True}), (8, 30, {'div2': True}), (8, 32, {'div2': True}), (8, 34, {'div2': True}), (8, 36, {'div2': True}), (8, 38, {'div2': True}), (8, 40, {'div2': True}), (8, 42, {'div2': True}), (8, 44, {'div2': True}), (8, 46, {'div2': True}), (8, 48, {'div2': True}), (8, 50, {'div2': True}), (8, 52, {'div2': True}), (8, 54, {'div2': True}), (8, 56, {'div2': True}), (8, 58, {'div2': True}), (8, 60, {'div2': True}), (8, 62, {'div2': True}), (8, 64, {'div2': True}), (8, 66, {'div2': True}), (8, 68, {'div2': True}), (8, 70, {'div2': True}), (8, 72, {'div2': True}), (8, 74, {'div2': True}), (8, 76, {'div2': True}), (8, 78, {'div2': True}), (8, 80, {'div2': True}), (8, 82, {'div2': True}), (8, 84, {'div2': True}), (8, 86, {'div2': True}), (8, 88, {'div2': True}), (8, 90, {'div2': True}), (8, 92, {'div2': True}), (8, 94, {'div2': True}), (8, 96, {'div2': True}), (8, 98, {'div2': True}), (8, 100, {'div2': True}), (10, 12, {'div2': True}), (10, 14, {'div2': True}), (10, 16, {'div2': True}), (10, 18, {'div2': True}), (10, 20, {'div2': True}), (10, 22, {'div2': True}), (10, 24, {'div2': True}), (10, 26, {'div2': True}), (10, 28, {'div2': True}), (10, 30, {'div2': True}), (10, 32, {'div2': True}), (10, 34, {'div2': True}), (10, 36, {'div2': True}), (10, 38, {'div2': True}), (10, 40, {'div2': True}), (10, 42, {'div2': True}), (10, 44, {'div2': True}), (10, 46, {'div2': True}), (10, 48, {'div2': True}), (10, 50, {'div2': True}), (10, 52, {'div2': True}), (10, 54, {'div2': True}), (10, 56, {'div2': True}), (10, 58, {'div2': True}), (10, 60, {'div2': True}), (10, 62, {'div2': True}), (10, 64, {'div2': True}), (10, 66, {'div2': True}), (10, 68, {'div2': True}), (10, 70, {'div2': True}), (10, 72, {'div2': True}), (10, 74, {'div2': True}), (10, 76, {'div2': True}), (10, 78, {'div2': True}), (10, 80, {'div2': True}), (10, 82, {'div2': True}), (10, 84, {'div2': True}), (10, 86, {'div2': True}), (10, 88, {'div2': True}), (10, 90, {'div2': True}), (10, 92, {'div2': True}), (10, 94, {'div2': True}), (10, 96, {'div2': True}), (10, 98, {'div2': True}), (10, 100, {'div2': True}), (12, 14, {'div2': True}), (12, 16, {'div2': True}), (12, 18, {'div2': True}), (12, 20, {'div2': True}), (12, 22, {'div2': True}), (12, 24, {'div2': True}), (12, 26, {'div2': True}), (12, 28, {'div2': True}), (12, 30, {'div2': True}), (12, 32, {'div2': True}), (12, 34, {'div2': True}), (12, 36, {'div2': True}), (12, 38, {'div2': True}), (12, 40, {'div2': True}), (12, 42, {'div2': True}), (12, 44, {'div2': True}), (12, 46, {'div2': True}), (12, 48, {'div2': True}), (12, 50, {'div2': True}), (12, 52, {'div2': True}), (12, 54, {'div2': True}), (12, 56, {'div2': True}), (12, 58, {'div2': True}), (12, 60, {'div2': True}), (12, 62, {'div2': True}), (12, 64, {'div2': True}), (12, 66, {'div2': True}), (12, 68, {'div2': True}), (12, 70, {'div2': True}), (12, 72, {'div2': True}), (12, 74, {'div2': True}), (12, 76, {'div2': True}), (12, 78, {'div2': True}), (12, 80, {'div2': True}), (12, 82, {'div2': True}), (12, 84, {'div2': True}), (12, 86, {'div2': True}), (12, 88, {'div2': True}), (12, 90, {'div2': True}), (12, 92, {'div2': True}), (12, 94, {'div2': True}), (12, 96, {'div2': True}), (12, 98, {'div2': True}), (12, 100, {'div2': True}), (14, 16, {'div2': True}), (14, 18, {'div2': True}), (14, 20, {'div2': True}), (14, 21, {'div7': True}), (14, 22, {'div2': True}), (14, 24, {'div2': True}), (14, 26, {'div2': True}), (14, 28, {'div2': True, 'div7': True}), (14, 30, {'div2': True}), (14, 32, {'div2': True}), (14, 34, {'div2': True}), (14, 35, {'div7': True}), (14, 36, {'div2': True}), (14, 38, {'div2': True}), (14, 40, {'div2': True}), (14, 42, {'div2': True, 'div7': True}), (14, 44, {'div2': True}), (14, 46, {'div2': True}), (14, 48, {'div2': True}), (14, 49, {'div7': True}), (14, 50, {'div2': True}), (14, 52, {'div2': True}), (14, 54, {'div2': True}), (14, 56, {'div2': True, 'div7': True}), (14, 58, {'div2': True}), (14, 60, {'div2': True}), (14, 62, {'div2': True}), (14, 63, {'div7': True}), (14, 64, {'div2': True}), (14, 66, {'div2': True}), (14, 68, {'div2': True}), (14, 70, {'div2': True, 'div7': True}), (14, 72, {'div2': True}), (14, 74, {'div2': True}), (14, 76, {'div2': True}), (14, 77, {'div7': True}), (14, 78, {'div2': True}), (14, 80, {'div2': True}), (14, 82, {'div2': True}), (14, 84, {'div2': True, 'div7': True}), (14, 86, {'div2': True}), (14, 88, {'div2': True}), (14, 90, {'div2': True}), (14, 91, {'div7': True}), (14, 92, {'div2': True}), (14, 94, {'div2': True}), (14, 96, {'div2': True}), (14, 98, {'div2': True, 'div7': True}), (14, 100, {'div2': True}), (16, 18, {'div2': True}), (16, 20, {'div2': True}), (16, 22, {'div2': True}), (16, 24, {'div2': True}), (16, 26, {'div2': True}), (16, 28, {'div2': True}), (16, 30, {'div2': True}), (16, 32, {'div2': True}), (16, 34, {'div2': True}), (16, 36, {'div2': True}), (16, 38, {'div2': True}), (16, 40, {'div2': True}), (16, 42, {'div2': True}), (16, 44, {'div2': True}), (16, 46, {'div2': True}), (16, 48, {'div2': True}), (16, 50, {'div2': True}), (16, 52, {'div2': True}), (16, 54, {'div2': True}), (16, 56, {'div2': True}), (16, 58, {'div2': True}), (16, 60, {'div2': True}), (16, 62, {'div2': True}), (16, 64, {'div2': True}), (16, 66, {'div2': True}), (16, 68, {'div2': True}), (16, 70, {'div2': True}), (16, 72, {'div2': True}), (16, 74, {'div2': True}), (16, 76, {'div2': True}), (16, 78, {'div2': True}), (16, 80, {'div2': True}), (16, 82, {'div2': True}), (16, 84, {'div2': True}), (16, 86, {'div2': True}), (16, 88, {'div2': True}), (16, 90, {'div2': True}), (16, 92, {'div2': True}), (16, 94, {'div2': True}), (16, 96, {'div2': True}), (16, 98, {'div2': True}), (16, 100, {'div2': True}), (18, 20, {'div2': True}), (18, 22, {'div2': True}), (18, 24, {'div2': True}), (18, 26, {'div2': True}), (18, 28, {'div2': True}), (18, 30, {'div2': True}), (18, 32, {'div2': True}), (18, 34, {'div2': True}), (18, 36, {'div2': True}), (18, 38, {'div2': True}), (18, 40, {'div2': True}), (18, 42, {'div2': True}), (18, 44, {'div2': True}), (18, 46, {'div2': True}), (18, 48, {'div2': True}), (18, 50, {'div2': True}), (18, 52, {'div2': True}), (18, 54, {'div2': True}), (18, 56, {'div2': True}), (18, 58, {'div2': True}), (18, 60, {'div2': True}), (18, 62, {'div2': True}), (18, 64, {'div2': True}), (18, 66, {'div2': True}), (18, 68, {'div2': True}), (18, 70, {'div2': True}), (18, 72, {'div2': True}), (18, 74, {'div2': True}), (18, 76, {'div2': True}), (18, 78, {'div2': True}), (18, 80, {'div2': True}), (18, 82, {'div2': True}), (18, 84, {'div2': True}), (18, 86, {'div2': True}), (18, 88, {'div2': True}), (18, 90, {'div2': True}), (18, 92, {'div2': True}), (18, 94, {'div2': True}), (18, 96, {'div2': True}), (18, 98, {'div2': True}), (18, 100, {'div2': True}), (20, 22, {'div2': True}), (20, 24, {'div2': True}), (20, 26, {'div2': True}), (20, 28, {'div2': True}), (20, 30, {'div2': True}), (20, 32, {'div2': True}), (20, 34, {'div2': True}), (20, 36, {'div2': True}), (20, 38, {'div2': True}), (20, 40, {'div2': True}), (20, 42, {'div2': True}), (20, 44, {'div2': True}), (20, 46, {'div2': True}), (20, 48, {'div2': True}), (20, 50, {'div2': True}), (20, 52, {'div2': True}), (20, 54, {'div2': True}), (20, 56, {'div2': True}), (20, 58, {'div2': True}), (20, 60, {'div2': True}), (20, 62, {'div2': True}), (20, 64, {'div2': True}), (20, 66, {'div2': True}), (20, 68, {'div2': True}), (20, 70, {'div2': True}), (20, 72, {'div2': True}), (20, 74, {'div2': True}), (20, 76, {'div2': True}), (20, 78, {'div2': True}), (20, 80, {'div2': True}), (20, 82, {'div2': True}), (20, 84, {'div2': True}), (20, 86, {'div2': True}), (20, 88, {'div2': True}), (20, 90, {'div2': True}), (20, 92, {'div2': True}), (20, 94, {'div2': True}), (20, 96, {'div2': True}), (20, 98, {'div2': True}), (20, 100, {'div2': True}), (21, 28, {'div7': True}), (21, 35, {'div7': True}), (21, 42, {'div7': True}), (21, 49, {'div7': True}), (21, 56, {'div7': True}), (21, 63, {'div7': True}), (21, 70, {'div7': True}), (21, 77, {'div7': True}), (21, 84, {'div7': True}), (21, 91, {'div7': True}), (21, 98, {'div7': True}), (22, 24, {'div2': True}), (22, 26, {'div2': True}), (22, 28, {'div2': True}), (22, 30, {'div2': True}), (22, 32, {'div2': True}), (22, 34, {'div2': True}), (22, 36, {'div2': True}), (22, 38, {'div2': True}), (22, 40, {'div2': True}), (22, 42, {'div2': True}), (22, 44, {'div2': True}), (22, 46, {'div2': True}), (22, 48, {'div2': True}), (22, 50, {'div2': True}), (22, 52, {'div2': True}), (22, 54, {'div2': True}), (22, 56, {'div2': True}), (22, 58, {'div2': True}), (22, 60, {'div2': True}), (22, 62, {'div2': True}), (22, 64, {'div2': True}), (22, 66, {'div2': True}), (22, 68, {'div2': True}), (22, 70, {'div2': True}), (22, 72, {'div2': True}), (22, 74, {'div2': True}), (22, 76, {'div2': True}), (22, 78, {'div2': True}), (22, 80, {'div2': True}), (22, 82, {'div2': True}), (22, 84, {'div2': True}), (22, 86, {'div2': True}), (22, 88, {'div2': True}), (22, 90, {'div2': True}), (22, 92, {'div2': True}), (22, 94, {'div2': True}), (22, 96, {'div2': True}), (22, 98, {'div2': True}), (22, 100, {'div2': True}), (24, 26, {'div2': True}), (24, 28, {'div2': True}), (24, 30, {'div2': True}), (24, 32, {'div2': True}), (24, 34, {'div2': True}), (24, 36, {'div2': True}), (24, 38, {'div2': True}), (24, 40, {'div2': True}), (24, 42, {'div2': True}), (24, 44, {'div2': True}), (24, 46, {'div2': True}), (24, 48, {'div2': True}), (24, 50, {'div2': True}), (24, 52, {'div2': True}), (24, 54, {'div2': True}), (24, 56, {'div2': True}), (24, 58, {'div2': True}), (24, 60, {'div2': True}), (24, 62, {'div2': True}), (24, 64, {'div2': True}), (24, 66, {'div2': True}), (24, 68, {'div2': True}), (24, 70, {'div2': True}), (24, 72, {'div2': True}), (24, 74, {'div2': True}), (24, 76, {'div2': True}), (24, 78, {'div2': True}), (24, 80, {'div2': True}), (24, 82, {'div2': True}), (24, 84, {'div2': True}), (24, 86, {'div2': True}), (24, 88, {'div2': True}), (24, 90, {'div2': True}), (24, 92, {'div2': True}), (24, 94, {'div2': True}), (24, 96, {'div2': True}), (24, 98, {'div2': True}), (24, 100, {'div2': True}), (26, 28, {'div2': True}), (26, 30, {'div2': True}), (26, 32, {'div2': True}), (26, 34, {'div2': True}), (26, 36, {'div2': True}), (26, 38, {'div2': True}), (26, 40, {'div2': True}), (26, 42, {'div2': True}), (26, 44, {'div2': True}), (26, 46, {'div2': True}), (26, 48, {'div2': True}), (26, 50, {'div2': True}), (26, 52, {'div2': True}), (26, 54, {'div2': True}), (26, 56, {'div2': True}), (26, 58, {'div2': True}), (26, 60, {'div2': True}), (26, 62, {'div2': True}), (26, 64, {'div2': True}), (26, 66, {'div2': True}), (26, 68, {'div2': True}), (26, 70, {'div2': True}), (26, 72, {'div2': True}), (26, 74, {'div2': True}), (26, 76, {'div2': True}), (26, 78, {'div2': True}), (26, 80, {'div2': True}), (26, 82, {'div2': True}), (26, 84, {'div2': True}), (26, 86, {'div2': True}), (26, 88, {'div2': True}), (26, 90, {'div2': True}), (26, 92, {'div2': True}), (26, 94, {'div2': True}), (26, 96, {'div2': True}), (26, 98, {'div2': True}), (26, 100, {'div2': True}), (28, 30, {'div2': True}), (28, 32, {'div2': True}), (28, 34, {'div2': True}), (28, 35, {'div7': True}), (28, 36, {'div2': True}), (28, 38, {'div2': True}), (28, 40, {'div2': True}), (28, 42, {'div2': True, 'div7': True}), (28, 44, {'div2': True}), (28, 46, {'div2': True}), (28, 48, {'div2': True}), (28, 49, {'div7': True}), (28, 50, {'div2': True}), (28, 52, {'div2': True}), (28, 54, {'div2': True}), (28, 56, {'div2': True, 'div7': True}), (28, 58, {'div2': True}), (28, 60, {'div2': True}), (28, 62, {'div2': True}), (28, 63, {'div7': True}), (28, 64, {'div2': True}), (28, 66, {'div2': True}), (28, 68, {'div2': True}), (28, 70, {'div2': True, 'div7': True}), (28, 72, {'div2': True}), (28, 74, {'div2': True}), (28, 76, {'div2': True}), (28, 77, {'div7': True}), (28, 78, {'div2': True}), (28, 80, {'div2': True}), (28, 82, {'div2': True}), (28, 84, {'div2': True, 'div7': True}), (28, 86, {'div2': True}), (28, 88, {'div2': True}), (28, 90, {'div2': True}), (28, 91, {'div7': True}), (28, 92, {'div2': True}), (28, 94, {'div2': True}), (28, 96, {'div2': True}), (28, 98, {'div2': True, 'div7': True}), (28, 100, {'div2': True}), (30, 32, {'div2': True}), (30, 34, {'div2': True}), (30, 36, {'div2': True}), (30, 38, {'div2': True}), (30, 40, {'div2': True}), (30, 42, {'div2': True}), (30, 44, {'div2': True}), (30, 46, {'div2': True}), (30, 48, {'div2': True}), (30, 50, {'div2': True}), (30, 52, {'div2': True}), (30, 54, {'div2': True}), (30, 56, {'div2': True}), (30, 58, {'div2': True}), (30, 60, {'div2': True}), (30, 62, {'div2': True}), (30, 64, {'div2': True}), (30, 66, {'div2': True}), (30, 68, {'div2': True}), (30, 70, {'div2': True}), (30, 72, {'div2': True}), (30, 74, {'div2': True}), (30, 76, {'div2': True}), (30, 78, {'div2': True}), (30, 80, {'div2': True}), (30, 82, {'div2': True}), (30, 84, {'div2': True}), (30, 86, {'div2': True}), (30, 88, {'div2': True}), (30, 90, {'div2': True}), (30, 92, {'div2': True}), (30, 94, {'div2': True}), (30, 96, {'div2': True}), (30, 98, {'div2': True}), (30, 100, {'div2': True}), (32, 34, {'div2': True}), (32, 36, {'div2': True}), (32, 38, {'div2': True}), (32, 40, {'div2': True}), (32, 42, {'div2': True}), (32, 44, {'div2': True}), (32, 46, {'div2': True}), (32, 48, {'div2': True}), (32, 50, {'div2': True}), (32, 52, {'div2': True}), (32, 54, {'div2': True}), (32, 56, {'div2': True}), (32, 58, {'div2': True}), (32, 60, {'div2': True}), (32, 62, {'div2': True}), (32, 64, {'div2': True}), (32, 66, {'div2': True}), (32, 68, {'div2': True}), (32, 70, {'div2': True}), (32, 72, {'div2': True}), (32, 74, {'div2': True}), (32, 76, {'div2': True}), (32, 78, {'div2': True}), (32, 80, {'div2': True}), (32, 82, {'div2': True}), (32, 84, {'div2': True}), (32, 86, {'div2': True}), (32, 88, {'div2': True}), (32, 90, {'div2': True}), (32, 92, {'div2': True}), (32, 94, {'div2': True}), (32, 96, {'div2': True}), (32, 98, {'div2': True}), (32, 100, {'div2': True}), (34, 36, {'div2': True}), (34, 38, {'div2': True}), (34, 40, {'div2': True}), (34, 42, {'div2': True}), (34, 44, {'div2': True}), (34, 46, {'div2': True}), (34, 48, {'div2': True}), (34, 50, {'div2': True}), (34, 52, {'div2': True}), (34, 54, {'div2': True}), (34, 56, {'div2': True}), (34, 58, {'div2': True}), (34, 60, {'div2': True}), (34, 62, {'div2': True}), (34, 64, {'div2': True}), (34, 66, {'div2': True}), (34, 68, {'div2': True}), (34, 70, {'div2': True}), (34, 72, {'div2': True}), (34, 74, {'div2': True}), (34, 76, {'div2': True}), (34, 78, {'div2': True}), (34, 80, {'div2': True}), (34, 82, {'div2': True}), (34, 84, {'div2': True}), (34, 86, {'div2': True}), (34, 88, {'div2': True}), (34, 90, {'div2': True}), (34, 92, {'div2': True}), (34, 94, {'div2': True}), (34, 96, {'div2': True}), (34, 98, {'div2': True}), (34, 100, {'div2': True}), (35, 42, {'div7': True}), (35, 49, {'div7': True}), (35, 56, {'div7': True}), (35, 63, {'div7': True}), (35, 70, {'div7': True}), (35, 77, {'div7': True}), (35, 84, {'div7': True}), (35, 91, {'div7': True}), (35, 98, {'div7': True}), (36, 38, {'div2': True}), (36, 40, {'div2': True}), (36, 42, {'div2': True}), (36, 44, {'div2': True}), (36, 46, {'div2': True}), (36, 48, {'div2': True}), (36, 50, {'div2': True}), (36, 52, {'div2': True}), (36, 54, {'div2': True}), (36, 56, {'div2': True}), (36, 58, {'div2': True}), (36, 60, {'div2': True}), (36, 62, {'div2': True}), (36, 64, {'div2': True}), (36, 66, {'div2': True}), (36, 68, {'div2': True}), (36, 70, {'div2': True}), (36, 72, {'div2': True}), (36, 74, {'div2': True}), (36, 76, {'div2': True}), (36, 78, {'div2': True}), (36, 80, {'div2': True}), (36, 82, {'div2': True}), (36, 84, {'div2': True}), (36, 86, {'div2': True}), (36, 88, {'div2': True}), (36, 90, {'div2': True}), (36, 92, {'div2': True}), (36, 94, {'div2': True}), (36, 96, {'div2': True}), (36, 98, {'div2': True}), (36, 100, {'div2': True}), (38, 40, {'div2': True}), (38, 42, {'div2': True}), (38, 44, {'div2': True}), (38, 46, {'div2': True}), (38, 48, {'div2': True}), (38, 50, {'div2': True}), (38, 52, {'div2': True}), (38, 54, {'div2': True}), (38, 56, {'div2': True}), (38, 58, {'div2': True}), (38, 60, {'div2': True}), (38, 62, {'div2': True}), (38, 64, {'div2': True}), (38, 66, {'div2': True}), (38, 68, {'div2': True}), (38, 70, {'div2': True}), (38, 72, {'div2': True}), (38, 74, {'div2': True}), (38, 76, {'div2': True}), (38, 78, {'div2': True}), (38, 80, {'div2': True}), (38, 82, {'div2': True}), (38, 84, {'div2': True}), (38, 86, {'div2': True}), (38, 88, {'div2': True}), (38, 90, {'div2': True}), (38, 92, {'div2': True}), (38, 94, {'div2': True}), (38, 96, {'div2': True}), (38, 98, {'div2': True}), (38, 100, {'div2': True}), (40, 42, {'div2': True}), (40, 44, {'div2': True}), (40, 46, {'div2': True}), (40, 48, {'div2': True}), (40, 50, {'div2': True}), (40, 52, {'div2': True}), (40, 54, {'div2': True}), (40, 56, {'div2': True}), (40, 58, {'div2': True}), (40, 60, {'div2': True}), (40, 62, {'div2': True}), (40, 64, {'div2': True}), (40, 66, {'div2': True}), (40, 68, {'div2': True}), (40, 70, {'div2': True}), (40, 72, {'div2': True}), (40, 74, {'div2': True}), (40, 76, {'div2': True}), (40, 78, {'div2': True}), (40, 80, {'div2': True}), (40, 82, {'div2': True}), (40, 84, {'div2': True}), (40, 86, {'div2': True}), (40, 88, {'div2': True}), (40, 90, {'div2': True}), (40, 92, {'div2': True}), (40, 94, {'div2': True}), (40, 96, {'div2': True}), (40, 98, {'div2': True}), (40, 100, {'div2': True}), (42, 44, {'div2': True}), (42, 46, {'div2': True}), (42, 48, {'div2': True}), (42, 49, {'div7': True}), (42, 50, {'div2': True}), (42, 52, {'div2': True}), (42, 54, {'div2': True}), (42, 56, {'div2': True, 'div7': True}), (42, 58, {'div2': True}), (42, 60, {'div2': True}), (42, 62, {'div2': True}), (42, 63, {'div7': True}), (42, 64, {'div2': True}), (42, 66, {'div2': True}), (42, 68, {'div2': True}), (42, 70, {'div2': True, 'div7': True}), (42, 72, {'div2': True}), (42, 74, {'div2': True}), (42, 76, {'div2': True}), (42, 77, {'div7': True}), (42, 78, {'div2': True}), (42, 80, {'div2': True}), (42, 82, {'div2': True}), (42, 84, {'div2': True, 'div7': True}), (42, 86, {'div2': True}), (42, 88, {'div2': True}), (42, 90, {'div2': True}), (42, 91, {'div7': True}), (42, 92, {'div2': True}), (42, 94, {'div2': True}), (42, 96, {'div2': True}), (42, 98, {'div2': True, 'div7': True}), (42, 100, {'div2': True}), (44, 46, {'div2': True}), (44, 48, {'div2': True}), (44, 50, {'div2': True}), (44, 52, {'div2': True}), (44, 54, {'div2': True}), (44, 56, {'div2': True}), (44, 58, {'div2': True}), (44, 60, {'div2': True}), (44, 62, {'div2': True}), (44, 64, {'div2': True}), (44, 66, {'div2': True}), (44, 68, {'div2': True}), (44, 70, {'div2': True}), (44, 72, {'div2': True}), (44, 74, {'div2': True}), (44, 76, {'div2': True}), (44, 78, {'div2': True}), (44, 80, {'div2': True}), (44, 82, {'div2': True}), (44, 84, {'div2': True}), (44, 86, {'div2': True}), (44, 88, {'div2': True}), (44, 90, {'div2': True}), (44, 92, {'div2': True}), (44, 94, {'div2': True}), (44, 96, {'div2': True}), (44, 98, {'div2': True}), (44, 100, {'div2': True}), (46, 48, {'div2': True}), (46, 50, {'div2': True}), (46, 52, {'div2': True}), (46, 54, {'div2': True}), (46, 56, {'div2': True}), (46, 58, {'div2': True}), (46, 60, {'div2': True}), (46, 62, {'div2': True}), (46, 64, {'div2': True}), (46, 66, {'div2': True}), (46, 68, {'div2': True}), (46, 70, {'div2': True}), (46, 72, {'div2': True}), (46, 74, {'div2': True}), (46, 76, {'div2': True}), (46, 78, {'div2': True}), (46, 80, {'div2': True}), (46, 82, {'div2': True}), (46, 84, {'div2': True}), (46, 86, {'div2': True}), (46, 88, {'div2': True}), (46, 90, {'div2': True}), (46, 92, {'div2': True}), (46, 94, {'div2': True}), (46, 96, {'div2': True}), (46, 98, {'div2': True}), (46, 100, {'div2': True}), (48, 50, {'div2': True}), (48, 52, {'div2': True}), (48, 54, {'div2': True}), (48, 56, {'div2': True}), (48, 58, {'div2': True}), (48, 60, {'div2': True}), (48, 62, {'div2': True}), (48, 64, {'div2': True}), (48, 66, {'div2': True}), (48, 68, {'div2': True}), (48, 70, {'div2': True}), (48, 72, {'div2': True}), (48, 74, {'div2': True}), (48, 76, {'div2': True}), (48, 78, {'div2': True}), (48, 80, {'div2': True}), (48, 82, {'div2': True}), (48, 84, {'div2': True}), (48, 86, {'div2': True}), (48, 88, {'div2': True}), (48, 90, {'div2': True}), (48, 92, {'div2': True}), (48, 94, {'div2': True}), (48, 96, {'div2': True}), (48, 98, {'div2': True}), (48, 100, {'div2': True}), (49, 56, {'div7': True}), (49, 63, {'div7': True}), (49, 70, {'div7': True}), (49, 77, {'div7': True}), (49, 84, {'div7': True}), (49, 91, {'div7': True}), (49, 98, {'div7': True}), (50, 52, {'div2': True}), (50, 54, {'div2': True}), (50, 56, {'div2': True}), (50, 58, {'div2': True}), (50, 60, {'div2': True}), (50, 62, {'div2': True}), (50, 64, {'div2': True}), (50, 66, {'div2': True}), (50, 68, {'div2': True}), (50, 70, {'div2': True}), (50, 72, {'div2': True}), (50, 74, {'div2': True}), (50, 76, {'div2': True}), (50, 78, {'div2': True}), (50, 80, {'div2': True}), (50, 82, {'div2': True}), (50, 84, {'div2': True}), (50, 86, {'div2': True}), (50, 88, {'div2': True}), (50, 90, {'div2': True}), (50, 92, {'div2': True}), (50, 94, {'div2': True}), (50, 96, {'div2': True}), (50, 98, {'div2': True}), (50, 100, {'div2': True}), (52, 54, {'div2': True}), (52, 56, {'div2': True}), (52, 58, {'div2': True}), (52, 60, {'div2': True}), (52, 62, {'div2': True}), (52, 64, {'div2': True}), (52, 66, {'div2': True}), (52, 68, {'div2': True}), (52, 70, {'div2': True}), (52, 72, {'div2': True}), (52, 74, {'div2': True}), (52, 76, {'div2': True}), (52, 78, {'div2': True}), (52, 80, {'div2': True}), (52, 82, {'div2': True}), (52, 84, {'div2': True}), (52, 86, {'div2': True}), (52, 88, {'div2': True}), (52, 90, {'div2': True}), (52, 92, {'div2': True}), (52, 94, {'div2': True}), (52, 96, {'div2': True}), (52, 98, {'div2': True}), (52, 100, {'div2': True}), (54, 56, {'div2': True}), (54, 58, {'div2': True}), (54, 60, {'div2': True}), (54, 62, {'div2': True}), (54, 64, {'div2': True}), (54, 66, {'div2': True}), (54, 68, {'div2': True}), (54, 70, {'div2': True}), (54, 72, {'div2': True}), (54, 74, {'div2': True}), (54, 76, {'div2': True}), (54, 78, {'div2': True}), (54, 80, {'div2': True}), (54, 82, {'div2': True}), (54, 84, {'div2': True}), (54, 86, {'div2': True}), (54, 88, {'div2': True}), (54, 90, {'div2': True}), (54, 92, {'div2': True}), (54, 94, {'div2': True}), (54, 96, {'div2': True}), (54, 98, {'div2': True}), (54, 100, {'div2': True}), (56, 58, {'div2': True}), (56, 60, {'div2': True}), (56, 62, {'div2': True}), (56, 63, {'div7': True}), (56, 64, {'div2': True}), (56, 66, {'div2': True}), (56, 68, {'div2': True}), (56, 70, {'div2': True, 'div7': True}), (56, 72, {'div2': True}), (56, 74, {'div2': True}), (56, 76, {'div2': True}), (56, 77, {'div7': True}), (56, 78, {'div2': True}), (56, 80, {'div2': True}), (56, 82, {'div2': True}), (56, 84, {'div2': True, 'div7': True}), (56, 86, {'div2': True}), (56, 88, {'div2': True}), (56, 90, {'div2': True}), (56, 91, {'div7': True}), (56, 92, {'div2': True}), (56, 94, {'div2': True}), (56, 96, {'div2': True}), (56, 98, {'div2': True, 'div7': True}), (56, 100, {'div2': True}), (58, 60, {'div2': True}), (58, 62, {'div2': True}), (58, 64, {'div2': True}), (58, 66, {'div2': True}), (58, 68, {'div2': True}), (58, 70, {'div2': True}), (58, 72, {'div2': True}), (58, 74, {'div2': True}), (58, 76, {'div2': True}), (58, 78, {'div2': True}), (58, 80, {'div2': True}), (58, 82, {'div2': True}), (58, 84, {'div2': True}), (58, 86, {'div2': True}), (58, 88, {'div2': True}), (58, 90, {'div2': True}), (58, 92, {'div2': True}), (58, 94, {'div2': True}), (58, 96, {'div2': True}), (58, 98, {'div2': True}), (58, 100, {'div2': True}), (60, 62, {'div2': True}), (60, 64, {'div2': True}), (60, 66, {'div2': True}), (60, 68, {'div2': True}), (60, 70, {'div2': True}), (60, 72, {'div2': True}), (60, 74, {'div2': True}), (60, 76, {'div2': True}), (60, 78, {'div2': True}), (60, 80, {'div2': True}), (60, 82, {'div2': True}), (60, 84, {'div2': True}), (60, 86, {'div2': True}), (60, 88, {'div2': True}), (60, 90, {'div2': True}), (60, 92, {'div2': True}), (60, 94, {'div2': True}), (60, 96, {'div2': True}), (60, 98, {'div2': True}), (60, 100, {'div2': True}), (62, 64, {'div2': True}), (62, 66, {'div2': True}), (62, 68, {'div2': True}), (62, 70, {'div2': True}), (62, 72, {'div2': True}), (62, 74, {'div2': True}), (62, 76, {'div2': True}), (62, 78, {'div2': True}), (62, 80, {'div2': True}), (62, 82, {'div2': True}), (62, 84, {'div2': True}), (62, 86, {'div2': True}), (62, 88, {'div2': True}), (62, 90, {'div2': True}), (62, 92, {'div2': True}), (62, 94, {'div2': True}), (62, 96, {'div2': True}), (62, 98, {'div2': True}), (62, 100, {'div2': True}), (63, 70, {'div7': True}), (63, 77, {'div7': True}), (63, 84, {'div7': True}), (63, 91, {'div7': True}), (63, 98, {'div7': True}), (64, 66, {'div2': True}), (64, 68, {'div2': True}), (64, 70, {'div2': True}), (64, 72, {'div2': True}), (64, 74, {'div2': True}), (64, 76, {'div2': True}), (64, 78, {'div2': True}), (64, 80, {'div2': True}), (64, 82, {'div2': True}), (64, 84, {'div2': True}), (64, 86, {'div2': True}), (64, 88, {'div2': True}), (64, 90, {'div2': True}), (64, 92, {'div2': True}), (64, 94, {'div2': True}), (64, 96, {'div2': True}), (64, 98, {'div2': True}), (64, 100, {'div2': True}), (66, 68, {'div2': True}), (66, 70, {'div2': True}), (66, 72, {'div2': True}), (66, 74, {'div2': True}), (66, 76, {'div2': True}), (66, 78, {'div2': True}), (66, 80, {'div2': True}), (66, 82, {'div2': True}), (66, 84, {'div2': True}), (66, 86, {'div2': True}), (66, 88, {'div2': True}), (66, 90, {'div2': True}), (66, 92, {'div2': True}), (66, 94, {'div2': True}), (66, 96, {'div2': True}), (66, 98, {'div2': True}), (66, 100, {'div2': True}), (68, 70, {'div2': True}), (68, 72, {'div2': True}), (68, 74, {'div2': True}), (68, 76, {'div2': True}), (68, 78, {'div2': True}), (68, 80, {'div2': True}), (68, 82, {'div2': True}), (68, 84, {'div2': True}), (68, 86, {'div2': True}), (68, 88, {'div2': True}), (68, 90, {'div2': True}), (68, 92, {'div2': True}), (68, 94, {'div2': True}), (68, 96, {'div2': True}), (68, 98, {'div2': True}), (68, 100, {'div2': True}), (70, 72, {'div2': True}), (70, 74, {'div2': True}), (70, 76, {'div2': True}), (70, 77, {'div7': True}), (70, 78, {'div2': True}), (70, 80, {'div2': True}), (70, 82, {'div2': True}), (70, 84, {'div2': True, 'div7': True}), (70, 86, {'div2': True}), (70, 88, {'div2': True}), (70, 90, {'div2': True}), (70, 91, {'div7': True}), (70, 92, {'div2': True}), (70, 94, {'div2': True}), (70, 96, {'div2': True}), (70, 98, {'div2': True, 'div7': True}), (70, 100, {'div2': True}), (72, 74, {'div2': True}), (72, 76, {'div2': True}), (72, 78, {'div2': True}), (72, 80, {'div2': True}), (72, 82, {'div2': True}), (72, 84, {'div2': True}), (72, 86, {'div2': True}), (72, 88, {'div2': True}), (72, 90, {'div2': True}), (72, 92, {'div2': True}), (72, 94, {'div2': True}), (72, 96, {'div2': True}), (72, 98, {'div2': True}), (72, 100, {'div2': True}), (74, 76, {'div2': True}), (74, 78, {'div2': True}), (74, 80, {'div2': True}), (74, 82, {'div2': True}), (74, 84, {'div2': True}), (74, 86, {'div2': True}), (74, 88, {'div2': True}), (74, 90, {'div2': True}), (74, 92, {'div2': True}), (74, 94, {'div2': True}), (74, 96, {'div2': True}), (74, 98, {'div2': True}), (74, 100, {'div2': True}), (76, 78, {'div2': True}), (76, 80, {'div2': True}), (76, 82, {'div2': True}), (76, 84, {'div2': True}), (76, 86, {'div2': True}), (76, 88, {'div2': True}), (76, 90, {'div2': True}), (76, 92, {'div2': True}), (76, 94, {'div2': True}), (76, 96, {'div2': True}), (76, 98, {'div2': True}), (76, 100, {'div2': True}), (77, 84, {'div7': True}), (77, 91, {'div7': True}), (77, 98, {'div7': True}), (78, 80, {'div2': True}), (78, 82, {'div2': True}), (78, 84, {'div2': True}), (78, 86, {'div2': True}), (78, 88, {'div2': True}), (78, 90, {'div2': True}), (78, 92, {'div2': True}), (78, 94, {'div2': True}), (78, 96, {'div2': True}), (78, 98, {'div2': True}), (78, 100, {'div2': True}), (80, 82, {'div2': True}), (80, 84, {'div2': True}), (80, 86, {'div2': True}), (80, 88, {'div2': True}), (80, 90, {'div2': True}), (80, 92, {'div2': True}), (80, 94, {'div2': True}), (80, 96, {'div2': True}), (80, 98, {'div2': True}), (80, 100, {'div2': True}), (82, 84, {'div2': True}), (82, 86, {'div2': True}), (82, 88, {'div2': True}), (82, 90, {'div2': True}), (82, 92, {'div2': True}), (82, 94, {'div2': True}), (82, 96, {'div2': True}), (82, 98, {'div2': True}), (82, 100, {'div2': True}), (84, 86, {'div2': True}), (84, 88, {'div2': True}), (84, 90, {'div2': True}), (84, 91, {'div7': True}), (84, 92, {'div2': True}), (84, 94, {'div2': True}), (84, 96, {'div2': True}), (84, 98, {'div2': True, 'div7': True}), (84, 100, {'div2': True}), (86, 88, {'div2': True}), (86, 90, {'div2': True}), (86, 92, {'div2': True}), (86, 94, {'div2': True}), (86, 96, {'div2': True}), (86, 98, {'div2': True}), (86, 100, {'div2': True}), (88, 90, {'div2': True}), (88, 92, {'div2': True}), (88, 94, {'div2': True}), (88, 96, {'div2': True}), (88, 98, {'div2': True}), (88, 100, {'div2': True}), (90, 92, {'div2': True}), (90, 94, {'div2': True}), (90, 96, {'div2': True}), (90, 98, {'div2': True}), (90, 100, {'div2': True}), (91, 98, {'div7': True}), (92, 94, {'div2': True}), (92, 96, {'div2': True}), (92, 98, {'div2': True}), (92, 100, {'div2': True}), (94, 96, {'div2': True}), (94, 98, {'div2': True}), (94, 100, {'div2': True}), (96, 98, {'div2': True}), (96, 100, {'div2': True}), (98, 100, {'div2': True})])"
      ]
     },
     "execution_count": 57,
     "metadata": {},
     "output_type": "execute_result"
    }
   ],
   "source": [
    "graph.edges(data=True)"
   ]
  },
  {
   "cell_type": "markdown",
   "metadata": {},
   "source": [
    "## Multigraphs"
   ]
  },
  {
   "cell_type": "markdown",
   "metadata": {},
   "source": [
    "Multigraphs can have multiple edges between any two nodes. They are referenced by a key."
   ]
  },
  {
   "cell_type": "code",
   "execution_count": 58,
   "metadata": {
    "ExecuteTime": {
     "end_time": "2020-04-22T09:12:01.824066Z",
     "start_time": "2020-04-22T09:12:01.820148Z"
    }
   },
   "outputs": [
    {
     "data": {
      "text/plain": [
       "1"
      ]
     },
     "execution_count": 58,
     "metadata": {},
     "output_type": "execute_result"
    }
   ],
   "source": [
    "M.add_edge(0,1)\n",
    "M.add_edge(0,1)"
   ]
  },
  {
   "cell_type": "code",
   "execution_count": 59,
   "metadata": {
    "ExecuteTime": {
     "end_time": "2020-04-22T09:12:02.151147Z",
     "start_time": "2020-04-22T09:12:02.146641Z"
    }
   },
   "outputs": [
    {
     "data": {
      "text/plain": [
       "MultiEdgeDataView([(0, 1), (0, 1)])"
      ]
     },
     "execution_count": 59,
     "metadata": {},
     "output_type": "execute_result"
    }
   ],
   "source": [
    "M.edges()"
   ]
  },
  {
   "cell_type": "markdown",
   "metadata": {},
   "source": [
    "The keys of the edges can be accessed by using the keyword `keys=True`. This will give a tuple of `(u,v,k)`, with the edge being `u` and `v` and the key being `k`."
   ]
  },
  {
   "cell_type": "code",
   "execution_count": 60,
   "metadata": {
    "ExecuteTime": {
     "end_time": "2020-04-22T09:12:05.288395Z",
     "start_time": "2020-04-22T09:12:05.284562Z"
    }
   },
   "outputs": [
    {
     "data": {
      "text/plain": [
       "MultiEdgeView([(0, 1, 0), (0, 1, 1)])"
      ]
     },
     "execution_count": 60,
     "metadata": {},
     "output_type": "execute_result"
    }
   ],
   "source": [
    "M.edges(keys=True)"
   ]
  },
  {
   "cell_type": "markdown",
   "metadata": {},
   "source": [
    "`MultiDraphs` and `MultiDiGraphs` are similar to `Graphs` and `DiGraphs` in most respects"
   ]
  },
  {
   "cell_type": "markdown",
   "metadata": {},
   "source": [
    "## Adding Graph Motifs"
   ]
  },
  {
   "cell_type": "markdown",
   "metadata": {},
   "source": [
    "In addition to adding nodes and edges one at a time `networkx` has some convenient functions for adding complete subgraphs. But beware, these may be removed, or the API changed in the future."
   ]
  },
  {
   "cell_type": "code",
   "execution_count": 61,
   "metadata": {
    "ExecuteTime": {
     "end_time": "2020-04-22T09:12:11.580255Z",
     "start_time": "2020-04-22T09:12:11.577716Z"
    }
   },
   "outputs": [],
   "source": [
    "nx.add_cycle(G, range(100,110))"
   ]
  },
  {
   "cell_type": "code",
   "execution_count": 62,
   "metadata": {
    "ExecuteTime": {
     "end_time": "2020-04-22T09:12:12.591540Z",
     "start_time": "2020-04-22T09:12:12.587581Z"
    }
   },
   "outputs": [
    {
     "data": {
      "text/plain": [
       "EdgeView([(4, 6), (6, 8), ('Spam', 'Eggs'), ('Bacon', 'Sausage'), ('Bacon', 'Ham'), (100, 101), (100, 109), (101, 102), (102, 103), (103, 104), (104, 105), (105, 106), (106, 107), (107, 108), (108, 109)])"
      ]
     },
     "execution_count": 62,
     "metadata": {},
     "output_type": "execute_result"
    }
   ],
   "source": [
    "G.edges()"
   ]
  },
  {
   "cell_type": "markdown",
   "metadata": {},
   "source": [
    "# Basic Graph Properties"
   ]
  },
  {
   "cell_type": "markdown",
   "metadata": {},
   "source": [
    "Basic graph properties are functions which are member of the `Graph` class itself. We'll explore different metrics in part III."
   ]
  },
  {
   "cell_type": "markdown",
   "metadata": {},
   "source": [
    "## Node and Edge Counts"
   ]
  },
  {
   "cell_type": "markdown",
   "metadata": {},
   "source": [
    "The _order_ of a graph is the number of nodes, it can be accessed by calling `G.order()` or using the builtin length function: `len(G)`."
   ]
  },
  {
   "cell_type": "code",
   "execution_count": 63,
   "metadata": {
    "ExecuteTime": {
     "end_time": "2020-04-22T09:12:21.350675Z",
     "start_time": "2020-04-22T09:12:21.347214Z"
    }
   },
   "outputs": [
    {
     "data": {
      "text/plain": [
       "26"
      ]
     },
     "execution_count": 63,
     "metadata": {},
     "output_type": "execute_result"
    }
   ],
   "source": [
    "G.order()"
   ]
  },
  {
   "cell_type": "code",
   "execution_count": 64,
   "metadata": {
    "ExecuteTime": {
     "end_time": "2020-04-22T09:12:22.568170Z",
     "start_time": "2020-04-22T09:12:22.564855Z"
    }
   },
   "outputs": [
    {
     "data": {
      "text/plain": [
       "26"
      ]
     },
     "execution_count": 64,
     "metadata": {},
     "output_type": "execute_result"
    }
   ],
   "source": [
    "len(G)"
   ]
  },
  {
   "cell_type": "markdown",
   "metadata": {},
   "source": [
    "The number of edges is usually referred to as the _size_ of the graph, and can be accessed by `G.size()`. You could also find out by calling `len(G.edges())`, but this is much slower."
   ]
  },
  {
   "cell_type": "code",
   "execution_count": 65,
   "metadata": {
    "ExecuteTime": {
     "end_time": "2020-04-22T09:12:24.358558Z",
     "start_time": "2020-04-22T09:12:24.354660Z"
    }
   },
   "outputs": [
    {
     "data": {
      "text/plain": [
       "15"
      ]
     },
     "execution_count": 65,
     "metadata": {},
     "output_type": "execute_result"
    }
   ],
   "source": [
    "G.size()"
   ]
  },
  {
   "cell_type": "markdown",
   "metadata": {},
   "source": [
    "For multigraphs it counts the number of edges includeing multiplicity"
   ]
  },
  {
   "cell_type": "code",
   "execution_count": 66,
   "metadata": {
    "ExecuteTime": {
     "end_time": "2020-04-22T09:12:26.124001Z",
     "start_time": "2020-04-22T09:12:26.119044Z"
    }
   },
   "outputs": [
    {
     "data": {
      "text/plain": [
       "2"
      ]
     },
     "execution_count": 66,
     "metadata": {},
     "output_type": "execute_result"
    }
   ],
   "source": [
    "M.size()"
   ]
  },
  {
   "cell_type": "markdown",
   "metadata": {},
   "source": [
    "## Node Neighbors"
   ]
  },
  {
   "cell_type": "markdown",
   "metadata": {},
   "source": [
    "Node neighbors can be accessed via the `neighbors` function (which returns an iterator) "
   ]
  },
  {
   "cell_type": "code",
   "execution_count": 67,
   "metadata": {
    "ExecuteTime": {
     "end_time": "2020-04-22T09:13:02.656722Z",
     "start_time": "2020-04-22T09:13:02.653455Z"
    }
   },
   "outputs": [
    {
     "data": {
      "text/plain": [
       "['Sausage', 'Ham']"
      ]
     },
     "execution_count": 67,
     "metadata": {},
     "output_type": "execute_result"
    }
   ],
   "source": [
    "list(G.neighbors('Bacon'))"
   ]
  },
  {
   "cell_type": "markdown",
   "metadata": {},
   "source": [
    "In the case of directed graphs, neighbors are only those originating at the node."
   ]
  },
  {
   "cell_type": "code",
   "execution_count": 68,
   "metadata": {
    "ExecuteTime": {
     "end_time": "2020-04-22T09:13:12.265450Z",
     "start_time": "2020-04-22T09:13:12.260209Z"
    }
   },
   "outputs": [
    {
     "data": {
      "text/plain": [
       "[1, 5, 6, 7, 8, 9]"
      ]
     },
     "execution_count": 68,
     "metadata": {},
     "output_type": "execute_result"
    }
   ],
   "source": [
    "D.add_edges_from([(0,i) for i in range(5,10)])\n",
    "\n",
    "list(D.neighbors(0))"
   ]
  },
  {
   "cell_type": "markdown",
   "metadata": {},
   "source": [
    "For multigraphs, neighbors are only reported once."
   ]
  },
  {
   "cell_type": "code",
   "execution_count": 69,
   "metadata": {
    "ExecuteTime": {
     "end_time": "2020-04-22T09:13:19.778434Z",
     "start_time": "2020-04-22T09:13:19.775172Z"
    }
   },
   "outputs": [
    {
     "data": {
      "text/plain": [
       "[1]"
      ]
     },
     "execution_count": 69,
     "metadata": {},
     "output_type": "execute_result"
    }
   ],
   "source": [
    "list(M.neighbors(0))"
   ]
  },
  {
   "cell_type": "markdown",
   "metadata": {},
   "source": [
    "## Degree"
   ]
  },
  {
   "cell_type": "markdown",
   "metadata": {},
   "source": [
    "The degree of a graph can be found using the `degree` function for undirected graphs, and `in_degree` and `out_degree` for directed graphs. They both return a dictionary with the node as the keys of the dictionary and the degree as the value"
   ]
  },
  {
   "cell_type": "code",
   "execution_count": 70,
   "metadata": {
    "ExecuteTime": {
     "end_time": "2020-04-22T09:13:25.744132Z",
     "start_time": "2020-04-22T09:13:25.741002Z"
    }
   },
   "outputs": [
    {
     "data": {
      "text/plain": [
       "DegreeView({0: 0, 'A': 0, ('x', 1.2): 0, 2: 0, 4: 1, 6: 2, 8: 1, 'Spam': 1, 'Bologna': 0, 'Bacon': 2, 'Sausage': 1, 'Ham': 1, 'Eggs': 1, ('x', 1.5): 0, ('y', 1.1): 0, ('y', 1.2): 0, 100: 2, 101: 2, 102: 2, 103: 2, 104: 2, 105: 2, 106: 2, 107: 2, 108: 2, 109: 2})"
      ]
     },
     "execution_count": 70,
     "metadata": {},
     "output_type": "execute_result"
    }
   ],
   "source": [
    "G.degree()"
   ]
  },
  {
   "cell_type": "code",
   "execution_count": 71,
   "metadata": {
    "ExecuteTime": {
     "end_time": "2020-04-22T09:13:31.374622Z",
     "start_time": "2020-04-22T09:13:31.370677Z"
    }
   },
   "outputs": [
    {
     "data": {
      "text/plain": [
       "InDegreeView({0: 0, 1: 1, 2: 1, 3: 1, 4: 1, 5: 2, 6: 2, 7: 2, 8: 2, 9: 2, 10: 1})"
      ]
     },
     "execution_count": 71,
     "metadata": {},
     "output_type": "execute_result"
    }
   ],
   "source": [
    "D.in_degree()"
   ]
  },
  {
   "cell_type": "code",
   "execution_count": 72,
   "metadata": {
    "ExecuteTime": {
     "end_time": "2020-04-22T09:13:32.043912Z",
     "start_time": "2020-04-22T09:13:32.040264Z"
    }
   },
   "outputs": [
    {
     "data": {
      "text/plain": [
       "OutDegreeView({0: 6, 1: 1, 2: 1, 3: 1, 4: 1, 5: 1, 6: 1, 7: 1, 8: 1, 9: 1, 10: 0})"
      ]
     },
     "execution_count": 72,
     "metadata": {},
     "output_type": "execute_result"
    }
   ],
   "source": [
    "D.out_degree()"
   ]
  },
  {
   "cell_type": "markdown",
   "metadata": {},
   "source": [
    "Both of these can be called on a single node or a subset of nodes if not all degrees are needed"
   ]
  },
  {
   "cell_type": "code",
   "execution_count": 73,
   "metadata": {
    "ExecuteTime": {
     "end_time": "2020-04-22T09:13:42.266096Z",
     "start_time": "2020-04-22T09:13:42.262716Z"
    }
   },
   "outputs": [
    {
     "data": {
      "text/plain": [
       "2"
      ]
     },
     "execution_count": 73,
     "metadata": {},
     "output_type": "execute_result"
    }
   ],
   "source": [
    "D.in_degree(5)"
   ]
  },
  {
   "cell_type": "code",
   "execution_count": 74,
   "metadata": {
    "ExecuteTime": {
     "end_time": "2020-04-22T09:13:43.244623Z",
     "start_time": "2020-04-22T09:13:43.241077Z"
    }
   },
   "outputs": [
    {
     "data": {
      "text/plain": [
       "OutDegreeView({0: 6, 1: 1, 2: 1})"
      ]
     },
     "execution_count": 74,
     "metadata": {},
     "output_type": "execute_result"
    }
   ],
   "source": [
    "D.out_degree([0,1,2])"
   ]
  },
  {
   "cell_type": "markdown",
   "metadata": {},
   "source": [
    "You can also calculate weighted degree. To do this each edge has to have specific attribute to be used as a weight."
   ]
  },
  {
   "cell_type": "code",
   "execution_count": 75,
   "metadata": {
    "ExecuteTime": {
     "end_time": "2020-04-22T09:14:02.595917Z",
     "start_time": "2020-04-22T09:14:02.592223Z"
    }
   },
   "outputs": [],
   "source": [
    "WG = nx.Graph()\n",
    "nx.add_star(WG, range(5))\n",
    "nx.add_star(WG, range(5, 10))\n",
    "WG.add_edges_from([(i, 2*i % 10) for i in range(10)])\n",
    "\n",
    "for (u, v) in WG.edges():\n",
    "    WG[u][v]['product'] = (u+1)*(v+1)"
   ]
  },
  {
   "cell_type": "code",
   "execution_count": 76,
   "metadata": {
    "ExecuteTime": {
     "end_time": "2020-04-22T09:14:04.053171Z",
     "start_time": "2020-04-22T09:14:04.049966Z"
    }
   },
   "outputs": [
    {
     "data": {
      "text/plain": [
       "DegreeView({0: 22, 1: 8, 2: 45, 3: 32, 4: 105, 5: 210, 6: 154, 7: 88, 8: 252, 9: 150})"
      ]
     },
     "execution_count": 76,
     "metadata": {},
     "output_type": "execute_result"
    }
   ],
   "source": [
    "WG.degree(weight='product')"
   ]
  },
  {
   "cell_type": "code",
   "execution_count": null,
   "metadata": {},
   "outputs": [],
   "source": []
  }
 ],
 "metadata": {
  "kernelspec": {
   "display_name": "Python 3 (ipykernel)",
   "language": "python",
   "name": "python3"
  },
  "language_info": {
   "codemirror_mode": {
    "name": "ipython",
    "version": 3
   },
   "file_extension": ".py",
   "mimetype": "text/x-python",
   "name": "python",
   "nbconvert_exporter": "python",
   "pygments_lexer": "ipython3",
   "version": "3.12.0"
  },
  "toc": {
   "base_numbering": 1,
   "nav_menu": {},
   "number_sections": true,
   "sideBar": true,
   "skip_h1_title": false,
   "title_cell": "Table of Contents",
   "title_sidebar": "Contents",
   "toc_cell": false,
   "toc_position": {},
   "toc_section_display": true,
   "toc_window_display": false
  },
  "varInspector": {
   "cols": {
    "lenName": 16,
    "lenType": 16,
    "lenVar": 40
   },
   "kernels_config": {
    "python": {
     "delete_cmd_postfix": "",
     "delete_cmd_prefix": "del ",
     "library": "var_list.py",
     "varRefreshCmd": "print(var_dic_list())"
    },
    "r": {
     "delete_cmd_postfix": ") ",
     "delete_cmd_prefix": "rm(",
     "library": "var_list.r",
     "varRefreshCmd": "cat(var_dic_list()) "
    }
   },
   "oldHeight": 502.246,
   "position": {
    "height": "40px",
    "left": "1416.25px",
    "right": "20px",
    "top": "120px",
    "width": "250px"
   },
   "types_to_exclude": [
    "module",
    "function",
    "builtin_function_or_method",
    "instance",
    "_Feature"
   ],
   "varInspector_section_display": "none",
   "window_display": true
  }
 },
 "nbformat": 4,
 "nbformat_minor": 4
}
