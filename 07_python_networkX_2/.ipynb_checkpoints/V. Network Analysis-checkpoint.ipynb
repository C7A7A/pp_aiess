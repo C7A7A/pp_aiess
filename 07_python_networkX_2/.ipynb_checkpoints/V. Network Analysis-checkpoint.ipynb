{
 "cells": [
  {
   "cell_type": "markdown",
   "metadata": {},
   "source": [
    "# Graph Measures"
   ]
  },
  {
   "cell_type": "markdown",
   "metadata": {},
   "source": [
    "In this section we'll cover some common network analysis techniques. This doesn't cover everything NetworkX is capable of, but is a should get you started exploring the rest of the package.\n",
    "\n",
    "First we are going to need import some other packages."
   ]
  },
  {
   "cell_type": "code",
   "execution_count": 3,
   "metadata": {
    "ExecuteTime": {
     "end_time": "2021-04-27T12:52:54.059852Z",
     "start_time": "2021-04-27T12:52:53.484146Z"
    }
   },
   "outputs": [],
   "source": [
    "import networkx as nx\n",
    "\n",
    "import numpy as np\n",
    "import matplotlib.pyplot as plt\n",
    "from tqdm.notebook import tqdm"
   ]
  },
  {
   "cell_type": "markdown",
   "metadata": {},
   "source": [
    "This is a little jupyter magic ([literally](https://ipython.org/ipython-doc/3/interactive/tutorial.html#magics-explained)], to make sure plots show up in the notebook."
   ]
  },
  {
   "cell_type": "code",
   "execution_count": 4,
   "metadata": {
    "ExecuteTime": {
     "end_time": "2021-04-27T12:52:55.052324Z",
     "start_time": "2021-04-27T12:52:55.047581Z"
    }
   },
   "outputs": [],
   "source": [
    "%matplotlib inline"
   ]
  },
  {
   "cell_type": "markdown",
   "metadata": {},
   "source": [
    "## Degree Distribution"
   ]
  },
  {
   "cell_type": "markdown",
   "metadata": {},
   "source": [
    "A common feature of complex networks it's their degree distribution. This is often represented as degree rank plot. Let's check out the degree rank plot of a BA Graph."
   ]
  },
  {
   "cell_type": "code",
   "execution_count": 5,
   "metadata": {
    "ExecuteTime": {
     "end_time": "2021-04-27T12:52:56.471546Z",
     "start_time": "2021-04-27T12:52:56.428335Z"
    }
   },
   "outputs": [],
   "source": [
    "BA = nx.barabasi_albert_graph(10000,1)"
   ]
  },
  {
   "cell_type": "markdown",
   "metadata": {},
   "source": [
    "To get the correct degree sequence, we need to get the degrees sorted in descending order. Most NetworkX functions return a dictionary, with the keys being the nodes (or edges) and the values being the result of whatever measure you are running. So we want to sort the values in reverse order."
   ]
  },
  {
   "cell_type": "code",
   "execution_count": 6,
   "metadata": {},
   "outputs": [
    {
     "data": {
      "text/plain": [
       "[120, 109, 92, 83, 69, 69, 66, 63, 60, 55]"
      ]
     },
     "execution_count": 6,
     "metadata": {},
     "output_type": "execute_result"
    }
   ],
   "source": [
    "degrees = dict(BA.degree())\n",
    "\n",
    "degree_sequence = sorted(degrees.values(), reverse=True)\n",
    "degree_sequence[:10]"
   ]
  },
  {
   "cell_type": "markdown",
   "metadata": {},
   "source": [
    "Now we need to do some plotting. Plotting using matplotlib is a lot like plotting using MATLAB. Because the degree distribution of a BA graph is a power-law, we'd like to use a plot with log scales. Here is how we'd do it."
   ]
  },
  {
   "cell_type": "code",
   "execution_count": 7,
   "metadata": {
    "ExecuteTime": {
     "end_time": "2021-04-27T12:53:02.367235Z",
     "start_time": "2021-04-27T12:53:01.527731Z"
    }
   },
   "outputs": [
    {
     "data": {
      "text/plain": [
       "(0.9, 10001)"
      ]
     },
     "execution_count": 7,
     "metadata": {},
     "output_type": "execute_result"
    },
    {
     "data": {
      "image/png": "[encoded data removed]",
      "text/plain": [
       "<Figure size 1000x800 with 1 Axes>"
      ]
     },
     "metadata": {},
     "output_type": "display_data"
    }
   ],
   "source": [
    "# loglog tells matplotlib to use log scales.\n",
    "# The x values, range(1,10001), are the ranks, \n",
    "# and the degree_sequence are the y values.\n",
    "# The String 'k.' means use black (k) dots (.)\n",
    "\n",
    "plt.figure(figsize=(10,8))\n",
    "plt.loglog(range(1, BA.order()+1), degree_sequence, 'g+')\n",
    "plt.xlabel('Rank')\n",
    "plt.ylabel('Degree')\n",
    "plt.ylim(1, max(degree_sequence)+1)\n",
    "plt.xlim(.9, 10001)"
   ]
  },
  {
   "cell_type": "markdown",
   "metadata": {},
   "source": [
    "Matplotlib is a powerful tool more info can be found on using it [here](http://matplotlib.org/users/beginner.html)."
   ]
  },
  {
   "cell_type": "markdown",
   "metadata": {},
   "source": [
    "### Degree Distribution of models"
   ]
  },
  {
   "cell_type": "markdown",
   "metadata": {},
   "source": [
    "In the original paper where the Barabási–Albert model was introduced it was stated that it provided a good explanation for the Autonomous Sytems Network. Let's build a network with similar degree structure to a recent snapshot of the Autonomous Systems Network. The data was retrieved from [UCLA's Internet Research Lab's Topology Data](http://irl.cs.ucla.edu/topology/).\n",
    "\n",
    "First, read in the network, it is in the data folder."
   ]
  },
  {
   "cell_type": "code",
   "execution_count": 8,
   "metadata": {
    "ExecuteTime": {
     "end_time": "2021-04-27T12:53:06.843566Z",
     "start_time": "2021-04-27T12:53:06.199332Z"
    }
   },
   "outputs": [],
   "source": [
    "AS = nx.read_edgelist('data/as20000102.txt', delimiter='\\t')"
   ]
  },
  {
   "cell_type": "markdown",
   "metadata": {},
   "source": [
    "Let's find out the number of nodes and edges in the networks, and the average degree of the network"
   ]
  },
  {
   "cell_type": "code",
   "execution_count": 9,
   "metadata": {
    "ExecuteTime": {
     "end_time": "2021-04-27T12:53:07.887575Z",
     "start_time": "2021-04-27T12:53:07.817166Z"
    }
   },
   "outputs": [
    {
     "data": {
      "text/plain": [
       "(6474, 13895, 4.29255483472351)"
      ]
     },
     "execution_count": 9,
     "metadata": {},
     "output_type": "execute_result"
    }
   ],
   "source": [
    "AS.order(), AS.size(), (2.0*AS.size()) / AS.order()"
   ]
  },
  {
   "cell_type": "markdown",
   "metadata": {},
   "source": [
    "Let's use these values as approximates to create a BA graph of the same size with almost the same number of edges"
   ]
  },
  {
   "cell_type": "code",
   "execution_count": 10,
   "metadata": {
    "ExecuteTime": {
     "end_time": "2021-04-27T12:53:10.561949Z",
     "start_time": "2021-04-27T12:53:09.219793Z"
    }
   },
   "outputs": [],
   "source": [
    "BA = nx.barabasi_albert_graph(AS.order(), 2)"
   ]
  },
  {
   "cell_type": "code",
   "execution_count": 11,
   "metadata": {},
   "outputs": [
    {
     "data": {
      "text/plain": [
       "(6474, 12944, 3.998764287920914)"
      ]
     },
     "execution_count": 11,
     "metadata": {},
     "output_type": "execute_result"
    }
   ],
   "source": [
    "BA.order(), BA.size(), (2.0*BA.size())/BA.order()"
   ]
  },
  {
   "cell_type": "markdown",
   "metadata": {},
   "source": [
    "### Exercise"
   ]
  },
  {
   "cell_type": "markdown",
   "metadata": {},
   "source": [
    "Find the degree sequence of each, and use the code below to plot each. Is this a good model?"
   ]
  },
  {
   "cell_type": "code",
   "execution_count": 12,
   "metadata": {},
   "outputs": [],
   "source": [
    "BA_deg_seq = ...\n",
    "AS_deg_seq = ..."
   ]
  },
  {
   "cell_type": "code",
   "execution_count": 13,
   "metadata": {},
   "outputs": [
    {
     "ename": "TypeError",
     "evalue": "float() argument must be a string or a real number, not 'ellipsis'",
     "output_type": "error",
     "traceback": [
      "\u001b[1;31m---------------------------------------------------------------------------\u001b[0m",
      "\u001b[1;31mTypeError\u001b[0m                                 Traceback (most recent call last)",
      "Cell \u001b[1;32mIn[13], line 1\u001b[0m\n\u001b[1;32m----> 1\u001b[0m plt\u001b[38;5;241m.\u001b[39mloglog(BA_deg_seq,\u001b[38;5;124m'\u001b[39m\u001b[38;5;124mb.\u001b[39m\u001b[38;5;124m'\u001b[39m,label\u001b[38;5;241m=\u001b[39m\u001b[38;5;124m'\u001b[39m\u001b[38;5;124mBA Model\u001b[39m\u001b[38;5;124m'\u001b[39m)\n\u001b[0;32m      2\u001b[0m plt\u001b[38;5;241m.\u001b[39mloglog(AS_deg_seq,\u001b[38;5;124m'\u001b[39m\u001b[38;5;124mr.\u001b[39m\u001b[38;5;124m'\u001b[39m,label\u001b[38;5;241m=\u001b[39m\u001b[38;5;124m'\u001b[39m\u001b[38;5;124mAS Data\u001b[39m\u001b[38;5;124m'\u001b[39m)\n\u001b[0;32m      3\u001b[0m plt\u001b[38;5;241m.\u001b[39mxlabel(\u001b[38;5;124m'\u001b[39m\u001b[38;5;124mRank\u001b[39m\u001b[38;5;124m'\u001b[39m)\n",
      "File \u001b[1;32m~\\miniconda3\\envs\\networks\\Lib\\site-packages\\matplotlib\\pyplot.py:3386\u001b[0m, in \u001b[0;36mloglog\u001b[1;34m(*args, **kwargs)\u001b[0m\n\u001b[0;32m   3384\u001b[0m \u001b[38;5;129m@_copy_docstring_and_deprecators\u001b[39m(Axes\u001b[38;5;241m.\u001b[39mloglog)\n\u001b[0;32m   3385\u001b[0m \u001b[38;5;28;01mdef\u001b[39;00m \u001b[38;5;21mloglog\u001b[39m(\u001b[38;5;241m*\u001b[39margs, \u001b[38;5;241m*\u001b[39m\u001b[38;5;241m*\u001b[39mkwargs) \u001b[38;5;241m-\u001b[39m\u001b[38;5;241m>\u001b[39m \u001b[38;5;28mlist\u001b[39m[Line2D]:\n\u001b[1;32m-> 3386\u001b[0m     \u001b[38;5;28;01mreturn\u001b[39;00m gca()\u001b[38;5;241m.\u001b[39mloglog(\u001b[38;5;241m*\u001b[39margs, \u001b[38;5;241m*\u001b[39m\u001b[38;5;241m*\u001b[39mkwargs)\n",
      "File \u001b[1;32m~\\miniconda3\\envs\\networks\\Lib\\site-packages\\matplotlib\\axes\\_axes.py:1862\u001b[0m, in \u001b[0;36mAxes.loglog\u001b[1;34m(self, *args, **kwargs)\u001b[0m\n\u001b[0;32m   1858\u001b[0m dy \u001b[38;5;241m=\u001b[39m {k: v \u001b[38;5;28;01mfor\u001b[39;00m k, v \u001b[38;5;129;01min\u001b[39;00m kwargs\u001b[38;5;241m.\u001b[39mitems()\n\u001b[0;32m   1859\u001b[0m       \u001b[38;5;28;01mif\u001b[39;00m k \u001b[38;5;129;01min\u001b[39;00m [\u001b[38;5;124m'\u001b[39m\u001b[38;5;124mbase\u001b[39m\u001b[38;5;124m'\u001b[39m, \u001b[38;5;124m'\u001b[39m\u001b[38;5;124msubs\u001b[39m\u001b[38;5;124m'\u001b[39m, \u001b[38;5;124m'\u001b[39m\u001b[38;5;124mnonpositive\u001b[39m\u001b[38;5;124m'\u001b[39m,\n\u001b[0;32m   1860\u001b[0m                \u001b[38;5;124m'\u001b[39m\u001b[38;5;124mbasey\u001b[39m\u001b[38;5;124m'\u001b[39m, \u001b[38;5;124m'\u001b[39m\u001b[38;5;124msubsy\u001b[39m\u001b[38;5;124m'\u001b[39m, \u001b[38;5;124m'\u001b[39m\u001b[38;5;124mnonposy\u001b[39m\u001b[38;5;124m'\u001b[39m]}\n\u001b[0;32m   1861\u001b[0m \u001b[38;5;28mself\u001b[39m\u001b[38;5;241m.\u001b[39mset_yscale(\u001b[38;5;124m'\u001b[39m\u001b[38;5;124mlog\u001b[39m\u001b[38;5;124m'\u001b[39m, \u001b[38;5;241m*\u001b[39m\u001b[38;5;241m*\u001b[39mdy)\n\u001b[1;32m-> 1862\u001b[0m \u001b[38;5;28;01mreturn\u001b[39;00m \u001b[38;5;28mself\u001b[39m\u001b[38;5;241m.\u001b[39mplot(\n\u001b[0;32m   1863\u001b[0m     \u001b[38;5;241m*\u001b[39margs, \u001b[38;5;241m*\u001b[39m\u001b[38;5;241m*\u001b[39m{k: v \u001b[38;5;28;01mfor\u001b[39;00m k, v \u001b[38;5;129;01min\u001b[39;00m kwargs\u001b[38;5;241m.\u001b[39mitems() \u001b[38;5;28;01mif\u001b[39;00m k \u001b[38;5;129;01mnot\u001b[39;00m \u001b[38;5;129;01min\u001b[39;00m {\u001b[38;5;241m*\u001b[39mdx, \u001b[38;5;241m*\u001b[39mdy}})\n",
      "File \u001b[1;32m~\\miniconda3\\envs\\networks\\Lib\\site-packages\\matplotlib\\axes\\_axes.py:1723\u001b[0m, in \u001b[0;36mAxes.plot\u001b[1;34m(self, scalex, scaley, data, *args, **kwargs)\u001b[0m\n\u001b[0;32m   1721\u001b[0m lines \u001b[38;5;241m=\u001b[39m [\u001b[38;5;241m*\u001b[39m\u001b[38;5;28mself\u001b[39m\u001b[38;5;241m.\u001b[39m_get_lines(\u001b[38;5;28mself\u001b[39m, \u001b[38;5;241m*\u001b[39margs, data\u001b[38;5;241m=\u001b[39mdata, \u001b[38;5;241m*\u001b[39m\u001b[38;5;241m*\u001b[39mkwargs)]\n\u001b[0;32m   1722\u001b[0m \u001b[38;5;28;01mfor\u001b[39;00m line \u001b[38;5;129;01min\u001b[39;00m lines:\n\u001b[1;32m-> 1723\u001b[0m     \u001b[38;5;28mself\u001b[39m\u001b[38;5;241m.\u001b[39madd_line(line)\n\u001b[0;32m   1724\u001b[0m \u001b[38;5;28;01mif\u001b[39;00m scalex:\n\u001b[0;32m   1725\u001b[0m     \u001b[38;5;28mself\u001b[39m\u001b[38;5;241m.\u001b[39m_request_autoscale_view(\u001b[38;5;124m\"\u001b[39m\u001b[38;5;124mx\u001b[39m\u001b[38;5;124m\"\u001b[39m)\n",
      "File \u001b[1;32m~\\miniconda3\\envs\\networks\\Lib\\site-packages\\matplotlib\\axes\\_base.py:2309\u001b[0m, in \u001b[0;36m_AxesBase.add_line\u001b[1;34m(self, line)\u001b[0m\n\u001b[0;32m   2306\u001b[0m \u001b[38;5;28;01mif\u001b[39;00m line\u001b[38;5;241m.\u001b[39mget_clip_path() \u001b[38;5;129;01mis\u001b[39;00m \u001b[38;5;28;01mNone\u001b[39;00m:\n\u001b[0;32m   2307\u001b[0m     line\u001b[38;5;241m.\u001b[39mset_clip_path(\u001b[38;5;28mself\u001b[39m\u001b[38;5;241m.\u001b[39mpatch)\n\u001b[1;32m-> 2309\u001b[0m \u001b[38;5;28mself\u001b[39m\u001b[38;5;241m.\u001b[39m_update_line_limits(line)\n\u001b[0;32m   2310\u001b[0m \u001b[38;5;28;01mif\u001b[39;00m \u001b[38;5;129;01mnot\u001b[39;00m line\u001b[38;5;241m.\u001b[39mget_label():\n\u001b[0;32m   2311\u001b[0m     line\u001b[38;5;241m.\u001b[39mset_label(\u001b[38;5;124mf\u001b[39m\u001b[38;5;124m'\u001b[39m\u001b[38;5;124m_child\u001b[39m\u001b[38;5;132;01m{\u001b[39;00m\u001b[38;5;28mlen\u001b[39m(\u001b[38;5;28mself\u001b[39m\u001b[38;5;241m.\u001b[39m_children)\u001b[38;5;132;01m}\u001b[39;00m\u001b[38;5;124m'\u001b[39m)\n",
      "File \u001b[1;32m~\\miniconda3\\envs\\networks\\Lib\\site-packages\\matplotlib\\axes\\_base.py:2332\u001b[0m, in \u001b[0;36m_AxesBase._update_line_limits\u001b[1;34m(self, line)\u001b[0m\n\u001b[0;32m   2328\u001b[0m \u001b[38;5;28;01mdef\u001b[39;00m \u001b[38;5;21m_update_line_limits\u001b[39m(\u001b[38;5;28mself\u001b[39m, line):\n\u001b[0;32m   2329\u001b[0m \u001b[38;5;250m    \u001b[39m\u001b[38;5;124;03m\"\"\"\u001b[39;00m\n\u001b[0;32m   2330\u001b[0m \u001b[38;5;124;03m    Figures out the data limit of the given line, updating self.dataLim.\u001b[39;00m\n\u001b[0;32m   2331\u001b[0m \u001b[38;5;124;03m    \"\"\"\u001b[39;00m\n\u001b[1;32m-> 2332\u001b[0m     path \u001b[38;5;241m=\u001b[39m line\u001b[38;5;241m.\u001b[39mget_path()\n\u001b[0;32m   2333\u001b[0m     \u001b[38;5;28;01mif\u001b[39;00m path\u001b[38;5;241m.\u001b[39mvertices\u001b[38;5;241m.\u001b[39msize \u001b[38;5;241m==\u001b[39m \u001b[38;5;241m0\u001b[39m:\n\u001b[0;32m   2334\u001b[0m         \u001b[38;5;28;01mreturn\u001b[39;00m\n",
      "File \u001b[1;32m~\\miniconda3\\envs\\networks\\Lib\\site-packages\\matplotlib\\lines.py:1032\u001b[0m, in \u001b[0;36mLine2D.get_path\u001b[1;34m(self)\u001b[0m\n\u001b[0;32m   1030\u001b[0m \u001b[38;5;250m\u001b[39m\u001b[38;5;124;03m\"\"\"Return the `~matplotlib.path.Path` associated with this line.\"\"\"\u001b[39;00m\n\u001b[0;32m   1031\u001b[0m \u001b[38;5;28;01mif\u001b[39;00m \u001b[38;5;28mself\u001b[39m\u001b[38;5;241m.\u001b[39m_invalidy \u001b[38;5;129;01mor\u001b[39;00m \u001b[38;5;28mself\u001b[39m\u001b[38;5;241m.\u001b[39m_invalidx:\n\u001b[1;32m-> 1032\u001b[0m     \u001b[38;5;28mself\u001b[39m\u001b[38;5;241m.\u001b[39mrecache()\n\u001b[0;32m   1033\u001b[0m \u001b[38;5;28;01mreturn\u001b[39;00m \u001b[38;5;28mself\u001b[39m\u001b[38;5;241m.\u001b[39m_path\n",
      "File \u001b[1;32m~\\miniconda3\\envs\\networks\\Lib\\site-packages\\matplotlib\\lines.py:674\u001b[0m, in \u001b[0;36mLine2D.recache\u001b[1;34m(self, always)\u001b[0m\n\u001b[0;32m    672\u001b[0m \u001b[38;5;28;01mif\u001b[39;00m always \u001b[38;5;129;01mor\u001b[39;00m \u001b[38;5;28mself\u001b[39m\u001b[38;5;241m.\u001b[39m_invalidy:\n\u001b[0;32m    673\u001b[0m     yconv \u001b[38;5;241m=\u001b[39m \u001b[38;5;28mself\u001b[39m\u001b[38;5;241m.\u001b[39mconvert_yunits(\u001b[38;5;28mself\u001b[39m\u001b[38;5;241m.\u001b[39m_yorig)\n\u001b[1;32m--> 674\u001b[0m     y \u001b[38;5;241m=\u001b[39m _to_unmasked_float_array(yconv)\u001b[38;5;241m.\u001b[39mravel()\n\u001b[0;32m    675\u001b[0m \u001b[38;5;28;01melse\u001b[39;00m:\n\u001b[0;32m    676\u001b[0m     y \u001b[38;5;241m=\u001b[39m \u001b[38;5;28mself\u001b[39m\u001b[38;5;241m.\u001b[39m_y\n",
      "File \u001b[1;32m~\\miniconda3\\envs\\networks\\Lib\\site-packages\\matplotlib\\cbook.py:1345\u001b[0m, in \u001b[0;36m_to_unmasked_float_array\u001b[1;34m(x)\u001b[0m\n\u001b[0;32m   1343\u001b[0m     \u001b[38;5;28;01mreturn\u001b[39;00m np\u001b[38;5;241m.\u001b[39mma\u001b[38;5;241m.\u001b[39masarray(x, \u001b[38;5;28mfloat\u001b[39m)\u001b[38;5;241m.\u001b[39mfilled(np\u001b[38;5;241m.\u001b[39mnan)\n\u001b[0;32m   1344\u001b[0m \u001b[38;5;28;01melse\u001b[39;00m:\n\u001b[1;32m-> 1345\u001b[0m     \u001b[38;5;28;01mreturn\u001b[39;00m np\u001b[38;5;241m.\u001b[39masarray(x, \u001b[38;5;28mfloat\u001b[39m)\n",
      "\u001b[1;31mTypeError\u001b[0m: float() argument must be a string or a real number, not 'ellipsis'"
     ]
    },
    {
     "data": {
      "image/png": "[encoded data removed]",
      "text/plain": [
       "<Figure size 640x480 with 1 Axes>"
      ]
     },
     "metadata": {},
     "output_type": "display_data"
    }
   ],
   "source": [
    "plt.loglog(BA_deg_seq,'b.',label='BA Model')\n",
    "plt.loglog(AS_deg_seq,'r.',label='AS Data')\n",
    "plt.xlabel('Rank')\n",
    "plt.ylabel('Degree')\n",
    "plt.ylim(1,max(BA_deg_seq)+1)\n",
    "plt.xlim(.9,10001)\n",
    "plt.legend()"
   ]
  },
  {
   "cell_type": "markdown",
   "metadata": {},
   "source": [
    "#### A note on power laws. "
   ]
  },
  {
   "cell_type": "markdown",
   "metadata": {},
   "source": [
    "It is oftern claimed that networks have power-law degree distribution. That is the probability of degree k is proportional to \n",
    "\n",
    "$$Pr[k] \\sim \\frac{1}{k^\\alpha}$$\n",
    "\n",
    "Where, $\\alpha$ is some constant. Often this is claimed pased on linear regressions of degree/rank plots. However, the appropriate way to fit power-laws is using maximum likelihood techniques. See [1] for more info\n",
    "\n",
    "[1] Clauset, Aaron, Cosma Rohilla Shalizi, and Mark EJ Newman. \"Power-law distributions in empirical data.\" _SIAM review_ 51.4 (2009): 661-703."
   ]
  },
  {
   "cell_type": "markdown",
   "metadata": {},
   "source": [
    "## Centrality"
   ]
  },
  {
   "cell_type": "markdown",
   "metadata": {},
   "source": [
    "Identifying important nodes is often a common technique in complex network analysis. Degree is a simple measure of centrality, but there are many others. Let's explore a few on some real data on Terrorists in Colonial America. I wish I could claim I came up with this, but I didn't all credit goes to \n",
    "\n",
    "[1] http://kieranhealy.org/blog/archives/2013/06/09/using-metadata-to-find-paul-revere/\n",
    "\n",
    "[2] Fischer, David Hackett. Historians' fallacies: Toward a logic of historical thought. Vol. 1970. London: Routledge & Kegan Paul, 1971.\n",
    "\n",
    "The data file contains a graph with two types of nodes, 'Organization' and 'Person'. Organizations are different groups who met in colonial America and supported independence from England. People are people attending those meetings. \n",
    "\n",
    "First let's get the data from `data/PaulRevereAppD.csv` file, then transform it to extract nodes representing people and organizations, and read it into NetworkX. Check the docs on [how to read bipartite graphs in NetworkX](https://networkx.github.io/documentation/stable/reference/algorithms/bipartite.html)"
   ]
  },
  {
   "cell_type": "code",
   "execution_count": 14,
   "metadata": {
    "ExecuteTime": {
     "end_time": "2021-04-27T12:53:35.770278Z",
     "start_time": "2021-04-27T12:53:35.592164Z"
    }
   },
   "outputs": [
    {
     "ename": "ModuleNotFoundError",
     "evalue": "No module named 'pandas'",
     "output_type": "error",
     "traceback": [
      "\u001b[1;31m---------------------------------------------------------------------------\u001b[0m",
      "\u001b[1;31mModuleNotFoundError\u001b[0m                       Traceback (most recent call last)",
      "Cell \u001b[1;32mIn[14], line 1\u001b[0m\n\u001b[1;32m----> 1\u001b[0m \u001b[38;5;28;01mimport\u001b[39;00m \u001b[38;5;21;01mpandas\u001b[39;00m \u001b[38;5;28;01mas\u001b[39;00m \u001b[38;5;21;01mpd\u001b[39;00m\n\u001b[0;32m      3\u001b[0m df \u001b[38;5;241m=\u001b[39m pd\u001b[38;5;241m.\u001b[39mread_csv(\u001b[38;5;124m'\u001b[39m\u001b[38;5;124mdata/PaulRevereAppD.csv\u001b[39m\u001b[38;5;124m'\u001b[39m, index_col\u001b[38;5;241m=\u001b[39m\u001b[38;5;124m'\u001b[39m\u001b[38;5;124mPerson\u001b[39m\u001b[38;5;124m'\u001b[39m)\n\u001b[0;32m      4\u001b[0m df\u001b[38;5;241m.\u001b[39mhead()\n",
      "\u001b[1;31mModuleNotFoundError\u001b[0m: No module named 'pandas'"
     ]
    }
   ],
   "source": [
    "import pandas as pd\n",
    "\n",
    "df = pd.read_csv('data/PaulRevereAppD.csv', index_col='Person')\n",
    "df.head()"
   ]
  },
  {
   "cell_type": "code",
   "execution_count": null,
   "metadata": {
    "ExecuteTime": {
     "end_time": "2021-04-27T12:53:37.038988Z",
     "start_time": "2021-04-27T12:53:37.014303Z"
    }
   },
   "outputs": [],
   "source": [
    "tups = [\n",
    "    (person, organization) \n",
    "    for (person, organization, membership) \n",
    "    in df.stack().reset_index().values.tolist()\n",
    "    if membership == 1\n",
    "]\n",
    "\n",
    "tups[:10]"
   ]
  },
  {
   "cell_type": "code",
   "execution_count": null,
   "metadata": {},
   "outputs": [],
   "source": [
    "_df = pd.DataFrame(tups, columns=['people', 'organization'])\n",
    "_df.head()"
   ]
  },
  {
   "cell_type": "code",
   "execution_count": null,
   "metadata": {
    "ExecuteTime": {
     "end_time": "2021-04-27T12:53:41.385671Z",
     "start_time": "2021-04-27T12:53:41.356618Z"
    }
   },
   "outputs": [],
   "source": [
    "G = nx.from_pandas_edgelist(_df, source='people', target='organization')"
   ]
  },
  {
   "cell_type": "code",
   "execution_count": null,
   "metadata": {},
   "outputs": [],
   "source": [
    "node_colors = ['orange' if n in _df.organization.tolist() else 'gray' for n in G.nodes]\n",
    "\n",
    "nx.draw(G, node_color=node_colors, node_size=30, width=.5)"
   ]
  },
  {
   "cell_type": "markdown",
   "metadata": {},
   "source": [
    "Let's Check out the edges"
   ]
  },
  {
   "cell_type": "markdown",
   "metadata": {},
   "source": [
    "We can see that the edges are between people and organizations. We are curious about the connections between people. We could write a function to create a new graph in which two people are connected if they co-attend a meeting, and the edge has a weight indicates the number of meetings they both attended. But that sounds hard, luckily NetworkX can do it for us. First let's make a list of nodes for organizations and people."
   ]
  },
  {
   "cell_type": "code",
   "execution_count": null,
   "metadata": {},
   "outputs": [],
   "source": [
    "orgs = _df.organization\n",
    "people = _df.people"
   ]
  },
  {
   "cell_type": "markdown",
   "metadata": {},
   "source": [
    "Now we can use that handy function"
   ]
  },
  {
   "cell_type": "code",
   "execution_count": null,
   "metadata": {},
   "outputs": [],
   "source": [
    "O = nx.bipartite.weighted_projected_graph(G, orgs) # Connections between people based on co-meeting attendence\n",
    "R = nx.bipartite.weighted_projected_graph(G, people) # Overlap among meeting attendees"
   ]
  },
  {
   "cell_type": "code",
   "execution_count": null,
   "metadata": {},
   "outputs": [],
   "source": [
    "O.nodes, O.edges(data=True)"
   ]
  },
  {
   "cell_type": "markdown",
   "metadata": {},
   "source": [
    "We can use a quick python trick to determine who has the highest degree. Adding the keyword wight indicates that we should use _weighted_ edges."
   ]
  },
  {
   "cell_type": "code",
   "execution_count": null,
   "metadata": {},
   "outputs": [],
   "source": [
    "deg = R.degree()\n",
    "\n",
    "sorted(deg, # Look at all the degrees as a tuple (node,degree)\n",
    "       key=lambda i: i[1], # Sort the list by the second item in the tuple\n",
    "       reverse=True)[:5] # Reverse the list (highest degree first), and only give the first 5"
   ]
  },
  {
   "cell_type": "markdown",
   "metadata": {},
   "source": [
    "Another important measure of centrality is the betweenneess centrality"
   ]
  },
  {
   "cell_type": "code",
   "execution_count": null,
   "metadata": {},
   "outputs": [],
   "source": [
    "btw = nx.betweenness_centrality(R)\n",
    "sorted(btw,\n",
    "       key=lambda i: i[1],\n",
    "       reverse=True)[:5]"
   ]
  },
  {
   "cell_type": "markdown",
   "metadata": {},
   "source": [
    "Try plotting the betweenness centrality vs the degree for each node. Instead of using `plt.loglog`, use `plt.semilogy`"
   ]
  },
  {
   "cell_type": "code",
   "execution_count": null,
   "metadata": {},
   "outputs": [],
   "source": [
    "..."
   ]
  },
  {
   "cell_type": "markdown",
   "metadata": {},
   "source": [
    "### Exercise"
   ]
  },
  {
   "cell_type": "markdown",
   "metadata": {},
   "source": [
    "Do a similar analysis with the network of oranizations `O`, which is organziation is most central to the revolution?\n",
    "\n",
    "First calculate the degree and betweenness for each of the nodes"
   ]
  },
  {
   "cell_type": "code",
   "execution_count": null,
   "metadata": {},
   "outputs": [],
   "source": [
    "node_degree = ...\n",
    "edge_betweenness = ..."
   ]
  },
  {
   "cell_type": "markdown",
   "metadata": {},
   "source": [
    "Since the number of organizations is small, it might not be the worst idea to draw the network. Here is a Red, White and Blue network drawing..."
   ]
  },
  {
   "cell_type": "code",
   "execution_count": null,
   "metadata": {},
   "outputs": [],
   "source": [
    "size = node_degree**2\n",
    "width = edge_betweenness\n",
    "\n",
    "plt.figure(figsize=(10,8))\n",
    "\n",
    "nx.draw(O, width=width,\n",
    "           with_labels=True,\n",
    "           edge_color='orange',\n",
    "           node_color='lightblue',\n",
    "           node_size=size,\n",
    "           font_size=16\n",
    "       )"
   ]
  },
  {
   "cell_type": "markdown",
   "metadata": {},
   "source": [
    "## Phase Transitions"
   ]
  },
  {
   "cell_type": "markdown",
   "metadata": {},
   "source": [
    "Some random graph models experience phase transitions like other physical phenomona. For example, the Erdos-Renyi graph that we already explored experiences a phase transition in the size of the giant connected component when the average degree of the model cross a certain threshold. We are going to use NetworkX to explore that threshold. \n",
    "\n",
    "Recall that an Erdos-Renyi random graph is one where there is an edge between each node with probability $p$. The ER model has expected number of Edges $\\mathbb{E}[|E|]={n \\choose 2}p$. With a little math on the degree distribution, we can find that the average degree will be $k=np$, and $p=\\frac{k}{n}$.\n",
    "\n",
    "The giant component is defined as the largest connected component in the graph. Let's explore how the size of the giant component changes for a graph of size 100, as we incrase the average degree."
   ]
  },
  {
   "cell_type": "code",
   "execution_count": null,
   "metadata": {
    "ExecuteTime": {
     "end_time": "2021-04-27T12:57:36.764319Z",
     "start_time": "2021-04-27T12:57:36.593076Z"
    }
   },
   "outputs": [],
   "source": [
    "n = 100 # number of nodes\n",
    "ps = np.arange(.1, 3, .01) / 100 # probability of the random creation of the edge\n",
    "\n",
    "gcc_size = []\n",
    "\n",
    "for p in tqdm(ps):\n",
    "    G = nx.gnp_random_graph(n, p)\n",
    "    gc = sorted(nx.connected_components(G), key=lambda x: len(x), reverse=True)[0]\n",
    "    gcc_size.append(float(len(gc)) / n)"
   ]
  },
  {
   "cell_type": "code",
   "execution_count": null,
   "metadata": {
    "ExecuteTime": {
     "end_time": "2021-04-27T12:57:38.656148Z",
     "start_time": "2021-04-27T12:57:38.522782Z"
    }
   },
   "outputs": [],
   "source": [
    "plt.figure(figsize=(10,8))\n",
    "plt.plot(ps, gcc_size, marker='.', lw=0.)\n",
    "plt.xlabel('Average Degree')\n",
    "plt.ylabel('Relative size of Giant Component')"
   ]
  },
  {
   "cell_type": "markdown",
   "metadata": {},
   "source": [
    "Looks pretty messy. This is because each graph is a random instance. Let's make 50 graphs for each possible average degree."
   ]
  },
  {
   "cell_type": "code",
   "execution_count": null,
   "metadata": {
    "ExecuteTime": {
     "end_time": "2021-04-27T12:58:10.924592Z",
     "start_time": "2021-04-27T12:58:09.301824Z"
    }
   },
   "outputs": [],
   "source": [
    "N = 50 # number of times to create a graph\n",
    "n = 100 # graph size\n",
    "\n",
    "ps = np.arange(.1, 3, .01) / 100\n",
    "\n",
    "gcc_size = []\n",
    "\n",
    "for p in tqdm(ps):\n",
    "    gcs = []\n",
    "    for _ in range(N):\n",
    "        G = nx.gnp_random_graph(n, p)\n",
    "        gc = sorted(nx.connected_components(G), key=lambda x: len(x),reverse=True)[0]\n",
    "        gcs.append(float(len(gc))/n)\n",
    "    gcc_size.append(np.mean(gcs))"
   ]
  },
  {
   "cell_type": "code",
   "execution_count": null,
   "metadata": {
    "ExecuteTime": {
     "end_time": "2021-04-27T12:58:13.560039Z",
     "start_time": "2021-04-27T12:58:13.417893Z"
    }
   },
   "outputs": [],
   "source": [
    "plt.figure(figsize=(10,8))\n",
    "plt.plot(ps, gcc_size, marker='.', lw=0.)\n",
    "plt.xlabel('Average Degree')\n",
    "plt.ylabel('Average Relative size of Giant Component')"
   ]
  },
  {
   "cell_type": "markdown",
   "metadata": {},
   "source": [
    "Now let's test it for various values of $n$"
   ]
  },
  {
   "cell_type": "code",
   "execution_count": null,
   "metadata": {
    "ExecuteTime": {
     "end_time": "2021-04-27T13:10:40.511776Z",
     "start_time": "2021-04-27T13:09:53.929304Z"
    }
   },
   "outputs": [],
   "source": [
    "ps = np.arange(.1, 3, .1)\n",
    "N = 50\n",
    "\n",
    "plt.figure(figsize=(10, 8))\n",
    "\n",
    "for n in tqdm([10, 50, 100, 250, 500]):\n",
    "    gcc_size = []\n",
    "    for p in tqdm(ps):\n",
    "        gcs = []\n",
    "        for _ in range(N):\n",
    "            G = nx.gnp_random_graph(n, p/n)\n",
    "            gc = sorted(nx.connected_components(G), key=lambda x: len(x), reverse=True)[0]\n",
    "            gcs.append(float(len(gc))/n)\n",
    "        gcc_size.append(np.mean(gcs))\n",
    "    plt.plot(ps, gcc_size, marker='.', label=str(n), lw=0.5)\n",
    "\n",
    "plt.legend(loc='lower right')\n",
    "plt.xlabel('Average Degree')\n",
    "plt.ylabel('Relative size of Giant Component')"
   ]
  },
  {
   "cell_type": "markdown",
   "metadata": {},
   "source": [
    "Notice how the transition gets sharper as $n$ gets larger."
   ]
  },
  {
   "cell_type": "markdown",
   "metadata": {},
   "source": [
    "## Community Detection"
   ]
  },
  {
   "cell_type": "markdown",
   "metadata": {},
   "source": [
    "Determining different node types solely from network data is one of the most powerful tools in network analysis.\n",
    "\n",
    "The first is a classic algorithm due to Girvan-Newman. It progressively removes the highest betweenness edges from a graph until graph becomes disconnected. Then it repeateds the process into successively smaller groups. Let's test it on a generated graph we know has two communities.\n",
    "\n",
    "A connected caveman graph is a graph with $k$ complete graphs connected in a ring."
   ]
  },
  {
   "cell_type": "code",
   "execution_count": null,
   "metadata": {
    "ExecuteTime": {
     "end_time": "2021-04-27T13:13:54.142436Z",
     "start_time": "2021-04-27T13:13:54.137855Z"
    }
   },
   "outputs": [],
   "source": [
    "G = nx.connected_caveman_graph(3,10)"
   ]
  },
  {
   "cell_type": "code",
   "execution_count": null,
   "metadata": {},
   "outputs": [],
   "source": [
    "nx.draw(G)"
   ]
  },
  {
   "cell_type": "code",
   "execution_count": null,
   "metadata": {
    "ExecuteTime": {
     "end_time": "2021-04-27T13:13:55.161045Z",
     "start_time": "2021-04-27T13:13:55.156178Z"
    }
   },
   "outputs": [],
   "source": [
    "group1 = range(10)\n",
    "group2 = range(10,20)\n",
    "group3 = range(20,30)"
   ]
  },
  {
   "cell_type": "markdown",
   "metadata": {},
   "source": [
    "Let's see what partitions Girvan Newman can partition the graph correctly"
   ]
  },
  {
   "cell_type": "code",
   "execution_count": null,
   "metadata": {
    "ExecuteTime": {
     "end_time": "2021-04-27T13:13:56.148791Z",
     "start_time": "2021-04-27T13:13:56.089317Z"
    }
   },
   "outputs": [],
   "source": [
    "comm = list(nx.community.girvan_newman(G))"
   ]
  },
  {
   "cell_type": "markdown",
   "metadata": {},
   "source": [
    "`comm` will have the breakdown of the graph at each stage of the algorithm, so the first item in the list is the graph broken into two parts."
   ]
  },
  {
   "cell_type": "code",
   "execution_count": null,
   "metadata": {
    "ExecuteTime": {
     "end_time": "2021-04-27T13:13:59.883744Z",
     "start_time": "2021-04-27T13:13:59.874098Z"
    }
   },
   "outputs": [],
   "source": [
    "comm[0]"
   ]
  },
  {
   "cell_type": "markdown",
   "metadata": {},
   "source": [
    "the second part of `comm` has the next partition of the network"
   ]
  },
  {
   "cell_type": "code",
   "execution_count": null,
   "metadata": {},
   "outputs": [],
   "source": [
    "comm[1]"
   ]
  },
  {
   "cell_type": "code",
   "execution_count": null,
   "metadata": {
    "ExecuteTime": {
     "end_time": "2021-04-27T13:12:24.532955Z",
     "start_time": "2021-04-27T13:12:24.447817Z"
    }
   },
   "outputs": [],
   "source": [
    "def node_color(lst):\n",
    "    cols = []\n",
    "    for node in lst:\n",
    "        if node in comm[1][0]:\n",
    "            cols.append('gray')\n",
    "        elif node in comm[1][1]:\n",
    "            cols.append('lightgreen')\n",
    "        else:\n",
    "            cols.append('salmon')\n",
    "    return cols\n",
    "\n",
    "plt.figure(figsize=(10,8))\n",
    "nx.draw_kamada_kawai(G, node_color=node_color(G.nodes))"
   ]
  },
  {
   "cell_type": "markdown",
   "metadata": {},
   "source": [
    "### Excercise"
   ]
  },
  {
   "cell_type": "markdown",
   "metadata": {},
   "source": [
    "Now you try with the karate club graph"
   ]
  },
  {
   "cell_type": "code",
   "execution_count": null,
   "metadata": {
    "ExecuteTime": {
     "end_time": "2021-04-27T13:12:37.522516Z",
     "start_time": "2021-04-27T13:12:37.518302Z"
    }
   },
   "outputs": [],
   "source": [
    "KC = nx.karate_club_graph()"
   ]
  },
  {
   "cell_type": "code",
   "execution_count": null,
   "metadata": {
    "ExecuteTime": {
     "end_time": "2021-04-27T13:13:06.760880Z",
     "start_time": "2021-04-27T13:13:06.651447Z"
    }
   },
   "outputs": [],
   "source": [
    "comm = list(nx.community.girvan_newman(KC))"
   ]
  },
  {
   "cell_type": "markdown",
   "metadata": {},
   "source": [
    "Let's see how the algorithm did on identifying different groups. In the Karate Club Graph, nodes have an attribute `club` which is the group affiliatino and is either `Mr. Hi` or `Officer`."
   ]
  },
  {
   "cell_type": "code",
   "execution_count": null,
   "metadata": {
    "ExecuteTime": {
     "end_time": "2021-04-27T13:13:07.646072Z",
     "start_time": "2021-04-27T13:13:07.642735Z"
    }
   },
   "outputs": [],
   "source": [
    "KC.nodes(data=True)"
   ]
  },
  {
   "cell_type": "markdown",
   "metadata": {},
   "source": [
    "Create two lists, one with all the nodes who are members of Mr. Hi's group and those that are members of Officer's group"
   ]
  },
  {
   "cell_type": "code",
   "execution_count": null,
   "metadata": {},
   "outputs": [],
   "source": [
    "mrHi = ...\n",
    "officer = ..."
   ]
  },
  {
   "cell_type": "markdown",
   "metadata": {},
   "source": [
    "Compare them to the divisions found by the algorithm."
   ]
  },
  {
   "cell_type": "code",
   "execution_count": null,
   "metadata": {},
   "outputs": [],
   "source": [
    "sorted(comm[0][0]), sorted(mrHi)"
   ]
  },
  {
   "cell_type": "code",
   "execution_count": null,
   "metadata": {},
   "outputs": [],
   "source": [
    "sorted(comm[0][1]), sorted(officer)"
   ]
  },
  {
   "cell_type": "markdown",
   "metadata": {},
   "source": [
    "Since this graph isn't that large, we could actually plot it. We'll make the first found community yellow, and the second community gray. If the nodes are misclassified we'll draw them in either orange or red."
   ]
  },
  {
   "cell_type": "code",
   "execution_count": null,
   "metadata": {},
   "outputs": [],
   "source": [
    "..."
   ]
  }
 ],
 "metadata": {
  "kernelspec": {
   "display_name": "Python 3 (ipykernel)",
   "language": "python",
   "name": "python3"
  },
  "language_info": {
   "codemirror_mode": {
    "name": "ipython",
    "version": 3
   },
   "file_extension": ".py",
   "mimetype": "text/x-python",
   "name": "python",
   "nbconvert_exporter": "python",
   "pygments_lexer": "ipython3",
   "version": "3.12.0"
  },
  "toc": {
   "base_numbering": 1,
   "nav_menu": {},
   "number_sections": true,
   "sideBar": true,
   "skip_h1_title": false,
   "title_cell": "Table of Contents",
   "title_sidebar": "Contents",
   "toc_cell": false,
   "toc_position": {},
   "toc_section_display": true,
   "toc_window_display": false
  },
  "varInspector": {
   "cols": {
    "lenName": 16,
    "lenType": 16,
    "lenVar": 40
   },
   "kernels_config": {
    "python": {
     "delete_cmd_postfix": "",
     "delete_cmd_prefix": "del ",
     "library": "var_list.py",
     "varRefreshCmd": "print(var_dic_list())"
    },
    "r": {
     "delete_cmd_postfix": ") ",
     "delete_cmd_prefix": "rm(",
     "library": "var_list.r",
     "varRefreshCmd": "cat(var_dic_list()) "
    }
   },
   "types_to_exclude": [
    "module",
    "function",
    "builtin_function_or_method",
    "instance",
    "_Feature"
   ],
   "window_display": false
  }
 },
 "nbformat": 4,
 "nbformat_minor": 4
}
